{
 "cells": [
  {
   "cell_type": "markdown",
   "id": "51862777",
   "metadata": {},
   "source": [
    "# Usage Instructions\n",
    "- Just run the complete code once. Do not run each Cell separatly\n",
    "- Let the driver window run in maximised mode. Do not run it in windowed mode(It will maximise by itself)\n",
    "  Just run the code, sit back and relax.\n",
    "- Do not make any changes in the code except the SAMPLE_USERNAME and SAMPLE_PASSWORD. you can easily change them by   refering the code below.\n",
    "- This code is written and tested with 4G network(100Mbps). if you are using a 3G connection, you might want to       change the time gap between several Cells(at the end of some cells there is a line of code whose parameters you     might want to alter.\n",
    "- Sometimes you will feel like the website is frozen. No! Its not. The code is still running doing its work. You     will notice this specially when the list of followers is being scrolled down. it will take some time to read       through all the follower's usernames."
   ]
  },
  {
   "cell_type": "markdown",
   "id": "926f6702",
   "metadata": {},
   "source": [
    "## Importing Important Libraries:"
   ]
  },
  {
   "cell_type": "code",
   "execution_count": 298,
   "id": "9e3a492f",
   "metadata": {},
   "outputs": [],
   "source": [
    "from selenium import webdriver\n",
    "from selenium.webdriver.common.keys import Keys\n",
    "import time\n",
    "from selenium.common.exceptions import NoSuchElementException\n",
    "from selenium.common.exceptions import StaleElementReferenceException\n",
    "from selenium.common.exceptions import TimeoutException\n",
    "from selenium.webdriver.support.ui import WebDriverWait\n",
    "from selenium.webdriver.support import expected_conditions as EC\n",
    "from selenium.webdriver.common.by import By\n",
    "from selenium.webdriver.support.select import Select\n",
    "import locale\n",
    "from webdriver_manager.chrome import ChromeDriverManager"
   ]
  },
  {
   "cell_type": "markdown",
   "id": "9a84898f",
   "metadata": {},
   "source": [
    "## Starting Chrome WebDriver:"
   ]
  },
  {
   "cell_type": "code",
   "execution_count": 253,
   "id": "54680228",
   "metadata": {},
   "outputs": [
    {
     "name": "stderr",
     "output_type": "stream",
     "text": [
      "[WDM] - \n",
      "\n",
      "[WDM] - ====== WebDriver manager ======\n",
      "[WDM] - Current google-chrome version is 95.0.4638\n",
      "[WDM] - Get LATEST driver version for 95.0.4638\n",
      "[WDM] - Driver [/Users/sagarprasad/.wdm/drivers/chromedriver/mac64/95.0.4638.54/chromedriver] found in cache\n",
      "<ipython-input-253-c026f0c15647>:1: DeprecationWarning: executable_path has been deprecated, please pass in a Service object\n",
      "  driver = webdriver.Chrome(ChromeDriverManager().install())\n"
     ]
    }
   ],
   "source": [
    "driver = webdriver.Chrome(ChromeDriverManager().install())"
   ]
  },
  {
   "cell_type": "markdown",
   "id": "cac04a7e",
   "metadata": {},
   "source": [
    "## Visiting Instagram \n"
   ]
  },
  {
   "cell_type": "code",
   "execution_count": 254,
   "id": "b88a7719",
   "metadata": {},
   "outputs": [],
   "source": [
    "driver.get('https://www.instagram.com')\n"
   ]
  },
  {
   "cell_type": "markdown",
   "id": "27a7d76c",
   "metadata": {},
   "source": [
    "## Input Credentials:\n",
    "\n",
    "Make sure to input appropriate username and password."
   ]
  },
  {
   "cell_type": "code",
   "execution_count": 256,
   "id": "cc57e789",
   "metadata": {},
   "outputs": [
    {
     "name": "stderr",
     "output_type": "stream",
     "text": [
      "<ipython-input-256-336bdb1b97e9>:1: DeprecationWarning: find_element_by_* commands are deprecated. Please use find_element() instead\n",
      "  username=driver.find_element_by_name('username')\n",
      "<ipython-input-256-336bdb1b97e9>:3: DeprecationWarning: find_element_by_* commands are deprecated. Please use find_element() instead\n",
      "  password = driver.find_element_by_name('password')\n"
     ]
    }
   ],
   "source": [
    "username=driver.find_element_by_name('username')\n",
    "username.send_keys('SAMPLE_PASSWORD')\n",
    "password = driver.find_element_by_name('password')\n",
    "password.send_keys('SAMPLE_USERNAME')"
   ]
  },
  {
   "cell_type": "code",
   "execution_count": 257,
   "id": "904fbbd0",
   "metadata": {},
   "outputs": [
    {
     "name": "stderr",
     "output_type": "stream",
     "text": [
      "<ipython-input-257-912353738942>:1: DeprecationWarning: find_element_by_* commands are deprecated. Please use find_element() instead\n",
      "  btn= driver.find_element_by_class_name('sqdOP')\n"
     ]
    }
   ],
   "source": [
    "btn= driver.find_element_by_class_name('sqdOP')\n",
    "btn.submit()"
   ]
  },
  {
   "cell_type": "markdown",
   "id": "2ecbabd5",
   "metadata": {},
   "source": [
    "## Supressing \"Turn On Notifications\" Window:\n"
   ]
  },
  {
   "cell_type": "code",
   "execution_count": 259,
   "id": "570d025c",
   "metadata": {},
   "outputs": [
    {
     "name": "stderr",
     "output_type": "stream",
     "text": [
      "<ipython-input-259-f840f9640c23>:1: DeprecationWarning: find_element_by_* commands are deprecated. Please use find_element() instead\n",
      "  driver.find_element_by_class_name('HoLwm').click()\n"
     ]
    }
   ],
   "source": [
    "driver.find_element_by_class_name('HoLwm').click()"
   ]
  },
  {
   "cell_type": "code",
   "execution_count": 260,
   "id": "1e7a1b80",
   "metadata": {},
   "outputs": [
    {
     "name": "stderr",
     "output_type": "stream",
     "text": [
      "<ipython-input-260-554a3596cc1c>:1: DeprecationWarning: find_element_by_* commands are deprecated. Please use find_element() instead\n",
      "  search_box=driver.find_element_by_class_name('TqC_a').click()\n"
     ]
    }
   ],
   "source": [
    "search_box=driver.find_element_by_class_name('TqC_a').click()"
   ]
  },
  {
   "cell_type": "markdown",
   "id": "dcfe76b1",
   "metadata": {},
   "source": [
    "## Input \"Food\" in the search box:"
   ]
  },
  {
   "cell_type": "code",
   "execution_count": 16,
   "id": "7fae0804",
   "metadata": {},
   "outputs": [
    {
     "name": "stderr",
     "output_type": "stream",
     "text": [
      "<ipython-input-16-de3cd2d0a45d>:1: DeprecationWarning: find_element_by_* commands are deprecated. Please use find_element() instead\n",
      "  search_box=driver.find_element_by_class_name('XTCLo')\n"
     ]
    }
   ],
   "source": [
    "search_box=driver.find_element_by_class_name('XTCLo')\n",
    "search_box.send_keys('food')"
   ]
  },
  {
   "cell_type": "markdown",
   "id": "d4eaebd9",
   "metadata": {},
   "source": [
    "#### Printing all the names of the Instagram Handles that are displayed in list after typing “food”\n"
   ]
  },
  {
   "cell_type": "code",
   "execution_count": 37,
   "id": "9f9c632b",
   "metadata": {},
   "outputs": [
    {
     "name": "stderr",
     "output_type": "stream",
     "text": [
      "<ipython-input-37-03a54f3ba7d7>:1: DeprecationWarning: find_elements_by_* commands are deprecated. Please use find_elements() instead\n",
      "  user=driver.find_elements_by_class_name('qyrsm')\n"
     ]
    },
    {
     "name": "stdout",
     "output_type": "stream",
     "text": [
      "foodiewithscrub\n",
      "food_ohfood\n",
      "foodiewithscrubs\n",
      "food.before.mood\n",
      "food_fashion_theatre\n",
      "foodviajeros\n",
      "food\n",
      "food52\n",
      "foodnetwork\n",
      "thehighspirits1\n",
      "foodbeast\n",
      "foodierasleen\n",
      "thefoodistaken\n",
      "healthy.foodyss\n",
      "foodbabyny\n",
      "yourfoodlab\n",
      "myy_food_stories\n",
      "foodivry\n",
      "mealplans\n",
      "food_gasmic_famous\n",
      "foodflavourandfun\n",
      "thedubailist\n",
      "foodaholic__me\n",
      "delhifoodguide\n",
      "jammu_wali_foodie\n",
      "ghar_batti_food_service\n",
      "jammu.wale.foodies\n",
      "food.darzee\n",
      "meghnasfoodmagic\n",
      "foodiswhyimbroke\n",
      "#food\n",
      "foodporn\n",
      "fao\n",
      "foodbible\n",
      "food_aphillyated\n",
      "foodys\n",
      "kashmirfoodfusion\n",
      "_pinchofspices_\n",
      "#foodporn\n",
      "zack.chug\n",
      "food.me.life\n",
      "food_fantasy_19\n",
      "foodzeee\n",
      "yourfoodfetishh\n",
      "#foodie\n",
      "foodhallindia\n",
      "foodtalkindia\n",
      "bombayfoodtruck\n",
      "_food_yatra_\n",
      "#foodblogger\n",
      "Food Street\n",
      "foodsofjane\n",
      "thefoodahoggers\n",
      "worldfoodprogramme\n",
      "kashmirfoodgram\n",
      "indiesfoodjammu\n"
     ]
    }
   ],
   "source": [
    "user=driver.find_elements_by_class_name('qyrsm')\n",
    "for i in user:\n",
    "    print(i.get_attribute('innerHTML'))"
   ]
  },
  {
   "cell_type": "markdown",
   "id": "c7727d91",
   "metadata": {},
   "source": [
    "### Clearing Input:"
   ]
  },
  {
   "cell_type": "code",
   "execution_count": 38,
   "id": "fdcbcd59",
   "metadata": {},
   "outputs": [
    {
     "name": "stderr",
     "output_type": "stream",
     "text": [
      "<ipython-input-38-4a4d14b8e114>:1: DeprecationWarning: find_element_by_* commands are deprecated. Please use find_element() instead\n",
      "  driver.find_element_by_class_name('coreSpriteSearchClear').click()\n"
     ]
    }
   ],
   "source": [
    "driver.find_element_by_class_name('coreSpriteSearchClear').click()"
   ]
  },
  {
   "cell_type": "markdown",
   "id": "807dacca",
   "metadata": {},
   "source": [
    "### Enabling Search box:\n",
    "### Searching and Opening profile of \"So Delhi\" :"
   ]
  },
  {
   "cell_type": "code",
   "execution_count": 39,
   "id": "78c07f10",
   "metadata": {},
   "outputs": [
    {
     "name": "stderr",
     "output_type": "stream",
     "text": [
      "<ipython-input-39-8713da95708c>:1: DeprecationWarning: find_element_by_* commands are deprecated. Please use find_element() instead\n",
      "  driver.find_element_by_class_name('TqC_a').click()\n",
      "<ipython-input-39-8713da95708c>:2: DeprecationWarning: find_element_by_* commands are deprecated. Please use find_element() instead\n",
      "  search_box=driver.find_element_by_class_name('XTCLo')\n"
     ]
    }
   ],
   "source": [
    "driver.find_element_by_class_name('TqC_a').click()\n",
    "search_box=driver.find_element_by_class_name('XTCLo')\n",
    "search_box.send_keys('sodelhi')"
   ]
  },
  {
   "cell_type": "code",
   "execution_count": 41,
   "id": "2c505974",
   "metadata": {},
   "outputs": [
    {
     "name": "stderr",
     "output_type": "stream",
     "text": [
      "<ipython-input-41-df52f03a9ba0>:1: DeprecationWarning: find_element_by_* commands are deprecated. Please use find_element() instead\n",
      "  driver.find_element_by_class_name('fDxYl').click()\n"
     ]
    }
   ],
   "source": [
    "driver.find_element_by_class_name('fDxYl').click()"
   ]
  },
  {
   "cell_type": "markdown",
   "id": "f19a23eb",
   "metadata": {},
   "source": [
    "### Following So Delhi :"
   ]
  },
  {
   "cell_type": "code",
   "execution_count": 81,
   "id": "35d36641",
   "metadata": {},
   "outputs": [
    {
     "name": "stderr",
     "output_type": "stream",
     "text": [
      "<ipython-input-81-4857625e7dda>:1: DeprecationWarning: find_element_by_* commands are deprecated. Please use find_element() instead\n",
      "  follow=driver.find_element_by_class_name('yZn4P')\n"
     ]
    }
   ],
   "source": [
    "follow=driver.find_element_by_class_name('yZn4P')\n",
    "if follow.get_attribute('innerHTML')=='Follow':\n",
    "    follow.click()\n",
    "else:\n",
    "    print('You are already following the page!')"
   ]
  },
  {
   "cell_type": "markdown",
   "id": "70736abb",
   "metadata": {},
   "source": [
    "### Unfollowing So Delhi :\n"
   ]
  },
  {
   "cell_type": "code",
   "execution_count": 86,
   "id": "157e1bc1",
   "metadata": {},
   "outputs": [
    {
     "name": "stderr",
     "output_type": "stream",
     "text": [
      "<ipython-input-86-cc7e97b7116f>:1: DeprecationWarning: find_element_by_* commands are deprecated. Please use find_element() instead\n",
      "  unfollow= driver.find_element_by_class_name('yZn4P')\n",
      "<ipython-input-86-cc7e97b7116f>:4: DeprecationWarning: find_element_by_* commands are deprecated. Please use find_element() instead\n",
      "  driver.find_element_by_class_name('aOOlW').click()\n"
     ]
    }
   ],
   "source": [
    "unfollow= driver.find_element_by_class_name('yZn4P')\n",
    "if unfollow.get_attribute('innerHTML')!='Follow':\n",
    "    unfollow.click()\n",
    "    driver.find_element_by_class_name('aOOlW').click()\n",
    "else:\n",
    "    print('You have already unfollowed the page')"
   ]
  },
  {
   "cell_type": "markdown",
   "id": "b53f836a",
   "metadata": {},
   "source": [
    "### Enabling the search box to visit \"dilsefoodie\":"
   ]
  },
  {
   "cell_type": "code",
   "execution_count": 92,
   "id": "d62dd69b",
   "metadata": {},
   "outputs": [
    {
     "name": "stderr",
     "output_type": "stream",
     "text": [
      "<ipython-input-92-36e58b215a10>:1: DeprecationWarning: find_element_by_* commands are deprecated. Please use find_element() instead\n",
      "  driver.find_element_by_class_name('TqC_a').click()\n"
     ]
    }
   ],
   "source": [
    "driver.find_element_by_class_name('TqC_a').click()"
   ]
  },
  {
   "cell_type": "markdown",
   "id": "a1e9541e",
   "metadata": {},
   "source": [
    "### Opening Profile of \"dilsefoodie\" :"
   ]
  },
  {
   "cell_type": "code",
   "execution_count": 131,
   "id": "eb4cad6a",
   "metadata": {},
   "outputs": [
    {
     "name": "stderr",
     "output_type": "stream",
     "text": [
      "<ipython-input-131-ef4435e985aa>:1: DeprecationWarning: find_element_by_* commands are deprecated. Please use find_element() instead\n",
      "  search_box=driver.find_element_by_class_name('XTCLo')\n"
     ]
    }
   ],
   "source": [
    "search_box=driver.find_element_by_class_name('XTCLo')\n",
    "search_box.send_keys('dilsefoodie')"
   ]
  },
  {
   "cell_type": "code",
   "execution_count": 134,
   "id": "a3e4ad79",
   "metadata": {},
   "outputs": [
    {
     "name": "stderr",
     "output_type": "stream",
     "text": [
      "<ipython-input-134-eb4b4d70753c>:1: DeprecationWarning: find_element_by_* commands are deprecated. Please use find_element() instead\n",
      "  driver.find_element_by_class_name('uL8Hv').click()\n"
     ]
    }
   ],
   "source": [
    "driver.find_element_by_class_name('uL8Hv').click()"
   ]
  },
  {
   "cell_type": "markdown",
   "id": "35c8a58d",
   "metadata": {},
   "source": [
    "### Scrolling manually to load elements:"
   ]
  },
  {
   "cell_type": "code",
   "execution_count": 99,
   "id": "609ebc09",
   "metadata": {},
   "outputs": [],
   "source": [
    "driver.execute_script('window.scrollBy(0,3000);')\n",
    "time.sleep(2.5)\n",
    "driver.execute_script('window.scrollBy(0, 3000);')\n",
    "time.sleep(2.5)"
   ]
  },
  {
   "cell_type": "markdown",
   "id": "8b4cffbf",
   "metadata": {},
   "source": [
    "### Liking 30 posts of dilsefoodie:"
   ]
  },
  {
   "cell_type": "code",
   "execution_count": 173,
   "id": "bf08e72c",
   "metadata": {},
   "outputs": [
    {
     "name": "stderr",
     "output_type": "stream",
     "text": [
      "<ipython-input-173-129b723c4c5c>:2: DeprecationWarning: find_elements_by_* commands are deprecated. Please use find_elements() instead\n",
      "  for i in driver.find_elements_by_xpath('//div[contains(@class,\"_9AhH0\")]'):\n",
      "<ipython-input-173-129b723c4c5c>:10: DeprecationWarning: find_element_by_* commands are deprecated. Please use find_element() instead\n",
      "  driver.find_element_by_class_name('rrUvL').click()\n"
     ]
    },
    {
     "name": "stdout",
     "output_type": "stream",
     "text": [
      "Liked All(30)!\n"
     ]
    }
   ],
   "source": [
    "count=0\n",
    "for i in driver.find_elements_by_xpath('//div[contains(@class,\"_9AhH0\")]'):\n",
    "    i.click()\n",
    "    trier=WebDriverWait(driver, 10).until(EC.presence_of_element_located((By.XPATH,\n",
    "                                                                    \"//button[contains(@class,'wpO6b')]\")))\n",
    "    \n",
    "    try:\n",
    "        WebDriverWait(driver, 5).until(EC.presence_of_element_located((By.XPATH,'//section[contains(@class,\"Slqrh\")]')))\n",
    "        time.sleep(0.8)\n",
    "        driver.find_element_by_class_name('rrUvL').click()\n",
    "    except NoSuchElementException:\n",
    "        print('Already Liked!')\n",
    "    driver.back()\n",
    "    count+=1\n",
    "    if count==30:\n",
    "        print('Liked All(30)!')\n",
    "        break\n",
    "waiter=WebDriverWait(driver, 10).until(EC.presence_of_element_located((By.XPATH, '//div[contains(@class,\"_9AhH0\")]')))\n",
    "time.sleep(2)\n",
    "driver.execute_script('window.scrollTo(0, 0)')"
   ]
  },
  {
   "cell_type": "markdown",
   "id": "10c4b2a1",
   "metadata": {},
   "source": [
    "### Unliking 30 posts of dilsefoodie:"
   ]
  },
  {
   "cell_type": "code",
   "execution_count": 174,
   "id": "ec949667",
   "metadata": {},
   "outputs": [
    {
     "name": "stderr",
     "output_type": "stream",
     "text": [
      "<ipython-input-174-6db2cd225bce>:3: DeprecationWarning: find_elements_by_* commands are deprecated. Please use find_elements() instead\n",
      "  for i in driver.find_elements_by_xpath('//div[contains(@class, \"_9AhH0\")]'):\n",
      "<ipython-input-174-6db2cd225bce>:11: DeprecationWarning: find_element_by_* commands are deprecated. Please use find_element() instead\n",
      "  driver.find_element_by_xpath('//section[contains(@class,\"Slqrh\")]/span/button/div/span').click()\n"
     ]
    },
    {
     "name": "stdout",
     "output_type": "stream",
     "text": [
      "UnLiked All(30)!\n"
     ]
    }
   ],
   "source": [
    "#unliking 30 posts\n",
    "count=0\n",
    "for i in driver.find_elements_by_xpath('//div[contains(@class, \"_9AhH0\")]'):\n",
    "    i.click()\n",
    "    trier=WebDriverWait(driver, 10).until(EC.presence_of_element_located((By.XPATH,\n",
    "                                                                    \"//button[contains(@class, 'wpO6b')]\")))\n",
    "    \n",
    "    try:\n",
    "        WebDriverWait(driver, 5).until(EC.presence_of_element_located((By.XPATH, '//section[contains(@class, \"Slqrh\")]')))\n",
    "#         driver.find_element_by_class_name('wpO6b').click()\n",
    "        driver.find_element_by_xpath('//section[contains(@class,\"Slqrh\")]/span/button/div/span').click()\n",
    "    except NoSuchElementException:\n",
    "        print('Already UnLiked!')\n",
    "    driver.back()\n",
    "    count+=1\n",
    "    time.sleep(0.3)\n",
    "    if count==30:\n",
    "        print('UnLiked All(30)!')\n",
    "        break\n",
    "time.sleep(2)"
   ]
  },
  {
   "cell_type": "markdown",
   "id": "4e0e68c4",
   "metadata": {},
   "source": [
    "### Visiting So Delhi:"
   ]
  },
  {
   "cell_type": "code",
   "execution_count": 175,
   "id": "6fe21eb9",
   "metadata": {},
   "outputs": [
    {
     "name": "stderr",
     "output_type": "stream",
     "text": [
      "<ipython-input-175-36e58b215a10>:1: DeprecationWarning: find_element_by_* commands are deprecated. Please use find_element() instead\n",
      "  driver.find_element_by_class_name('TqC_a').click()\n"
     ]
    }
   ],
   "source": [
    "driver.find_element_by_class_name('TqC_a').click()"
   ]
  },
  {
   "cell_type": "code",
   "execution_count": 176,
   "id": "dce0a182",
   "metadata": {},
   "outputs": [
    {
     "name": "stderr",
     "output_type": "stream",
     "text": [
      "<ipython-input-176-42e972076afe>:1: DeprecationWarning: find_element_by_* commands are deprecated. Please use find_element() instead\n",
      "  search_box=driver.find_element_by_class_name('XTCLo')\n"
     ]
    }
   ],
   "source": [
    "search_box=driver.find_element_by_class_name('XTCLo')\n",
    "search_box.send_keys('So Delhi')"
   ]
  },
  {
   "cell_type": "code",
   "execution_count": 177,
   "id": "df0956cb",
   "metadata": {},
   "outputs": [
    {
     "name": "stderr",
     "output_type": "stream",
     "text": [
      "<ipython-input-177-eb4b4d70753c>:1: DeprecationWarning: find_element_by_* commands are deprecated. Please use find_element() instead\n",
      "  driver.find_element_by_class_name('uL8Hv').click()\n"
     ]
    }
   ],
   "source": [
    "driver.find_element_by_class_name('uL8Hv').click()"
   ]
  },
  {
   "cell_type": "markdown",
   "id": "ee6e67d6",
   "metadata": {},
   "source": [
    "### Extracting the usernames of the first 500 followers of 'sodelhi' :"
   ]
  },
  {
   "cell_type": "code",
   "execution_count": 185,
   "id": "266b7cf9",
   "metadata": {},
   "outputs": [
    {
     "name": "stderr",
     "output_type": "stream",
     "text": [
      "<ipython-input-185-a0b38da76faa>:1: DeprecationWarning: find_elements_by_* commands are deprecated. Please use find_elements() instead\n",
      "  a=driver.find_elements_by_xpath('//a[@class=\"-nal3 \"]/span[@class=\"g47SY \"]')\n"
     ]
    }
   ],
   "source": [
    "a=driver.find_elements_by_xpath('//a[@class=\"-nal3 \"]/span[@class=\"g47SY \"]')\n",
    "a[0].click()"
   ]
  },
  {
   "cell_type": "code",
   "execution_count": 201,
   "id": "604a3bf5",
   "metadata": {},
   "outputs": [
    {
     "name": "stderr",
     "output_type": "stream",
     "text": [
      "<ipython-input-201-108f1be0d822>:3: DeprecationWarning: find_elements_by_* commands are deprecated. Please use find_elements() instead\n",
      "  a=driver.find_elements_by_class_name('notranslate')\n",
      "<ipython-input-201-108f1be0d822>:8: DeprecationWarning: find_element_by_* commands are deprecated. Please use find_element() instead\n",
      "  driver.execute_script('arguments[0].scrollIntoView(0, 100);', driver.find_element_by_xpath('//ul[contains(@class,\"jSC57\")]'))\n"
     ]
    },
    {
     "data": {
      "text/plain": [
       "['s_a_m_p_u_r_n_a',\n",
       " 'sakshatmoorpana',\n",
       " 'amarshonarbanglafood',\n",
       " '_muskaanmalik',\n",
       " 'sumit1119962018',\n",
       " 'hh.charlote',\n",
       " 'kedia_anant_453',\n",
       " 'palak.patel08',\n",
       " '_itsvaibhav_',\n",
       " 'vaibhavsa9',\n",
       " 'arreyyy._.yaaarrrrrr_',\n",
       " 'amaira_.khan__',\n",
       " 'harshagram.me',\n",
       " '100rabbbhh',\n",
       " 'mrs_kristy_antony',\n",
       " 'aryayanaiir',\n",
       " 'ruparavala',\n",
       " 'daiwik_op_8',\n",
       " '_namrxta___',\n",
       " 'sahil.malhotra5',\n",
       " 'travelgram.360',\n",
       " 'say.shiprajain',\n",
       " 'iamdeepak.14',\n",
       " '_akshat_g',\n",
       " 'niravsavlia',\n",
       " 'sandarbhsinghjd',\n",
       " 'bardan_singh',\n",
       " 'jacksunny0',\n",
       " 'aayushh.g',\n",
       " 'karantalwar15',\n",
       " 'attirish',\n",
       " 'ronitgl55',\n",
       " 'aveassss___',\n",
       " 'ankitgandhi02',\n",
       " '04_shivangi_09',\n",
       " 'mur.lee3',\n",
       " 'r_shubham21',\n",
       " 'delhiian',\n",
       " 'juhi6798',\n",
       " 'bidhuri214',\n",
       " 'delusion.26',\n",
       " 'ganesh_fzr',\n",
       " 'aayushi.jain',\n",
       " '_reshu.singh_',\n",
       " 'spampunkk',\n",
       " 'sai_memorial',\n",
       " 'prachimishraa__',\n",
       " 'cse_aspirant1',\n",
       " 'risshaabh_jaggi_06',\n",
       " 'tripti.jha_',\n",
       " 'mrs._ansh',\n",
       " 'shivesh.patel06',\n",
       " 'karmanmalhotra',\n",
       " 'basima91',\n",
       " 'schawla23',\n",
       " 'sharma.rashiii',\n",
       " 'priyansh10_',\n",
       " 'diwakarnc',\n",
       " 'sakshisinghh',\n",
       " 'chand.parihar',\n",
       " 'mrinall___',\n",
       " 'purv.i5975',\n",
       " 'pallavi.agg',\n",
       " 'ram_m86',\n",
       " 'mr_hussainnnn',\n",
       " 'dr.shubham_sehrawat',\n",
       " 'undercover.baker',\n",
       " 'delhi_explore',\n",
       " 'reshmataneja9',\n",
       " 'bhaktijain14',\n",
       " 'iamjithing',\n",
       " 'words_behind_the_lens',\n",
       " 'vijaya__dixit',\n",
       " 'ankitpoddar5',\n",
       " 'sanch_gupta',\n",
       " 'latha.megha.9',\n",
       " 'theroshni455',\n",
       " 'shekhar.one',\n",
       " 'guptaniki77',\n",
       " 'piyanshu_jain',\n",
       " 'aashirkhan_852',\n",
       " 'lalli.s127',\n",
       " 'rohitkhetan',\n",
       " 'gulatipuneet',\n",
       " 'jishnu_saji_',\n",
       " 'nuriyaahmad11',\n",
       " '_gurjot_johal',\n",
       " 'tim_drake2105',\n",
       " 'rare.to.found',\n",
       " 'a___dhillon',\n",
       " 'harneet114',\n",
       " 'nakuls009',\n",
       " 'alexsandrosilva3703',\n",
       " 'curious_raja',\n",
       " 'badbaeella',\n",
       " 'surabhiiee',\n",
       " 'saurabh_rai18',\n",
       " 'davidvivian_',\n",
       " 'shubham158',\n",
       " 'estelarodriguez3241',\n",
       " '1vikalp9',\n",
       " 'rachit256',\n",
       " 'a_kashbisht__',\n",
       " 'mina.zakaria007',\n",
       " 'gopikanchapogu',\n",
       " 'shauryas2',\n",
       " 'crude_ink_',\n",
       " '_.tarora',\n",
       " 'rajukundiyal',\n",
       " 'revant_1',\n",
       " 'janani32342',\n",
       " 'inayat_0418',\n",
       " 'moreteenaheree',\n",
       " 'shivamganatra',\n",
       " 'j__g__k',\n",
       " 'bloodlustorwat_1',\n",
       " 'mikwine13',\n",
       " 'artyom_arjun',\n",
       " 'ms.haldiya',\n",
       " 'prateek413',\n",
       " 'wandering_manas',\n",
       " 'yashita_rao',\n",
       " 'lohith2112',\n",
       " '____x.someone.x____',\n",
       " 'sakshijaiinn',\n",
       " 'dr_pramod_ambalkar',\n",
       " 'iam_ankurgupta',\n",
       " 'shivangi.singh_02',\n",
       " 'rebel.mandy',\n",
       " 'arishanaeem',\n",
       " 'harsha_ksdv',\n",
       " 'raunak.03',\n",
       " 'iam_jatindanieljohn_jd',\n",
       " 'jishad_muhammed',\n",
       " 'anika.jain18',\n",
       " 'toxic.gamer.adit',\n",
       " 'thetrailtales_',\n",
       " 'artiyadav.alloo',\n",
       " 'robalo47',\n",
       " 'neha_singh1604',\n",
       " 'bad_captaiin_',\n",
       " 'motivationalquotes2121',\n",
       " 'pepinuhav',\n",
       " 'rinkal_rajput0000',\n",
       " 'aditimishra7798',\n",
       " 'mrsam_k1',\n",
       " '_damsel_in_address_',\n",
       " 'shwetsy26',\n",
       " 'vishesh.ghosh',\n",
       " 'emil_y6461',\n",
       " 'rashi.manu',\n",
       " 'ishitak05',\n",
       " 'lilahamira',\n",
       " 'tanvvvvvvvvvv',\n",
       " 'eeshaaverma',\n",
       " 'aamir_khursheed',\n",
       " 'rajatsrivastavoffical05',\n",
       " '_ankit_8999',\n",
       " 'kar_an0910',\n",
       " 'bong._irish',\n",
       " 'rohit_gangakhedkar',\n",
       " 'divyanshigurjar_8',\n",
       " 'sidrra.aa',\n",
       " 'anshika_kandari',\n",
       " 'wanwadi__bajigar',\n",
       " 'nishasharma0054',\n",
       " 'roamingferalcat',\n",
       " 'preeti_singh1217',\n",
       " 'gishika.28',\n",
       " 'yug_src_100ni',\n",
       " 'anithaanithaprakash1',\n",
       " 'abitofanoddity',\n",
       " 'karis_hma5078',\n",
       " 'amreliya.nikunj',\n",
       " 'devandra_ujjwal',\n",
       " 'amitdombe456',\n",
       " 'yours_faithfully_iyer',\n",
       " 'f3_x_o',\n",
       " 'mehak_makeupartist',\n",
       " 'kritikasharma_a',\n",
       " 'vipul1974',\n",
       " 'the_manshisharma',\n",
       " '__.kishaaa',\n",
       " 'sameerv1611',\n",
       " 'luhar3797',\n",
       " 'yasir_ubaid_khan',\n",
       " 'danish.gambhir',\n",
       " 'its__me__pikachu__',\n",
       " 'gajuraj7',\n",
       " 'official_yadav_nee2',\n",
       " 'nzadane',\n",
       " 'namanjain2322',\n",
       " 'diananatasharoyce',\n",
       " 'mehar_thandi',\n",
       " 'official_navreet_5911',\n",
       " 'prashantsingh.77',\n",
       " 'alpana_tyagi515',\n",
       " 'gajendra_singh.deora',\n",
       " 'abecedaryakshat',\n",
       " 'fatsratsbats_890',\n",
       " 'iammeghakaushik',\n",
       " 'shehna__jebinz',\n",
       " 'samyuktha.934',\n",
       " 'shubham_sharma135',\n",
       " 'muskan_srivastava8',\n",
       " 'apex_chetan_',\n",
       " 'theregalhampers',\n",
       " 'northlyuka',\n",
       " 'mr.megalomaniac',\n",
       " 'ilyyashika',\n",
       " 'indori_blood',\n",
       " 'bhavika0624',\n",
       " 'anshuagarwalanshua',\n",
       " 'liveluxelifestyle',\n",
       " 'wabi_sabi___6',\n",
       " 'devug4677',\n",
       " 'kyadikkathaiyaar',\n",
       " 'chetanadalakha',\n",
       " 'shahaleena_',\n",
       " 'navdha_dhingra',\n",
       " 'rachu_pikachu',\n",
       " 'ji._sh_.nu',\n",
       " 'visweshsuryadevara',\n",
       " 'kunalgaur_007',\n",
       " 'its_monikapandey',\n",
       " 'karan.chauhan14',\n",
       " 'yadavnitish295_',\n",
       " 'ubed_adia9757',\n",
       " 'raji.krish31',\n",
       " 'ayush52709',\n",
       " 'jkhardekar123',\n",
       " 'ashwini__shelar',\n",
       " 'anjali01280',\n",
       " 'ramanbakshi_makupartist',\n",
       " 'cisyfuss',\n",
       " 'love_with_mountains_',\n",
       " 'raga_deepak_',\n",
       " 'abhibrar001',\n",
       " 'roopambehl',\n",
       " 'delhi_foodietraveller',\n",
       " 'vidurprabhakar',\n",
       " 'sanya_arora_03',\n",
       " 'ganesh.latake',\n",
       " 'punjabi.wanderer',\n",
       " 'devashree_6006',\n",
       " 'avika.thaparx',\n",
       " 'noorjahan7582',\n",
       " 'iam_sagittarius_girl',\n",
       " 'iamaribanaeem',\n",
       " 'aartii017',\n",
       " 'real.king.m.d.jabir.s.k.786',\n",
       " 'shivanirawat__96',\n",
       " 'venavir_ahuja',\n",
       " 'rrr0011___',\n",
       " 'nipunvishu',\n",
       " 'tejas_singh',\n",
       " 'femme_fatalist',\n",
       " 'sandipvaghela23',\n",
       " 'k.pathak.01',\n",
       " 'cedaarandpine',\n",
       " 'ishantguptaaa',\n",
       " 'shikhagupta5283']"
      ]
     },
     "execution_count": 201,
     "metadata": {},
     "output_type": "execute_result"
    }
   ],
   "source": [
    "followers=[]\n",
    "count=0\n",
    "a=driver.find_elements_by_class_name('notranslate')\n",
    "\n",
    "for i in a:\n",
    "    if count>=500:\n",
    "        break\n",
    "    driver.execute_script('arguments[0].scrollIntoView(0, 100);', driver.find_element_by_xpath('//ul[contains(@class,\"jSC57\")]'))\n",
    "    time.sleep(0.8)\n",
    "    followers.append(i.get_attribute('innerHTML'))\n",
    "    count+=1\n",
    "    \n",
    "followers"
   ]
  },
  {
   "cell_type": "code",
   "execution_count": 265,
   "id": "2767840d",
   "metadata": {},
   "outputs": [
    {
     "name": "stderr",
     "output_type": "stream",
     "text": [
      "<ipython-input-265-b444592f7837>:1: DeprecationWarning: find_element_by_* commands are deprecated. Please use find_element() instead\n",
      "  driver.find_element_by_class_name('TqC_a').click()\n",
      "<ipython-input-265-b444592f7837>:2: DeprecationWarning: find_element_by_* commands are deprecated. Please use find_element() instead\n",
      "  search_box=driver.find_element_by_class_name('XTCLo')\n"
     ]
    }
   ],
   "source": [
    "driver.find_element_by_class_name('TqC_a').click()\n",
    "search_box=driver.find_element_by_class_name('XTCLo')\n",
    "search_box.send_keys('foodtalkindia')"
   ]
  },
  {
   "cell_type": "code",
   "execution_count": 266,
   "id": "bf759e51",
   "metadata": {},
   "outputs": [
    {
     "name": "stderr",
     "output_type": "stream",
     "text": [
      "<ipython-input-266-eb4b4d70753c>:1: DeprecationWarning: find_element_by_* commands are deprecated. Please use find_element() instead\n",
      "  driver.find_element_by_class_name('uL8Hv').click()\n"
     ]
    }
   ],
   "source": [
    "driver.find_element_by_class_name('uL8Hv').click()"
   ]
  },
  {
   "cell_type": "markdown",
   "id": "b9134e07",
   "metadata": {},
   "source": [
    "### Extracting the usernames of the first 500 followers of 'foodtalkindia' :\n"
   ]
  },
  {
   "cell_type": "code",
   "execution_count": 267,
   "id": "7a97a9f8",
   "metadata": {},
   "outputs": [
    {
     "name": "stderr",
     "output_type": "stream",
     "text": [
      "<ipython-input-267-d071a81cdb78>:1: DeprecationWarning: find_element_by_* commands are deprecated. Please use find_element() instead\n",
      "  driver.find_element_by_xpath('//a[@class=\"-nal3 \"]/span[@class=\"g47SY \"]').click()\n"
     ]
    }
   ],
   "source": [
    "driver.find_element_by_xpath('//a[@class=\"-nal3 \"]/span[@class=\"g47SY \"]').click()"
   ]
  },
  {
   "cell_type": "code",
   "execution_count": 208,
   "id": "1fa1b51e",
   "metadata": {},
   "outputs": [
    {
     "name": "stderr",
     "output_type": "stream",
     "text": [
      "<ipython-input-208-fe0115c9aad5>:3: DeprecationWarning: find_elements_by_* commands are deprecated. Please use find_elements() instead\n",
      "  a=driver.find_elements_by_class_name('notranslate')\n",
      "<ipython-input-208-fe0115c9aad5>:8: DeprecationWarning: find_element_by_* commands are deprecated. Please use find_element() instead\n",
      "  driver.execute_script('arguments[0].scrollIntoView(0, 100);', driver.find_element_by_xpath('//ul[contains(@class,\"jSC57\")]'))\n"
     ]
    },
    {
     "data": {
      "text/plain": [
       "['ajaykej',\n",
       " 'sukkhasismer',\n",
       " 'pinal2010',\n",
       " 'foods_n_taste',\n",
       " 'mybigbakelist',\n",
       " 'spamanya05',\n",
       " 'tokyomyatt',\n",
       " 'itz__addy_rajput__khoda__01',\n",
       " 'rashmi.bhura',\n",
       " 'karan.passi.3910',\n",
       " 'pankaj_goswami20',\n",
       " 'soni_yukti_',\n",
       " 'ruchita_0431',\n",
       " 'shy_khmuhammad',\n",
       " '_lazy._.eaters_',\n",
       " '0ll_meow_ll0',\n",
       " 'sowmya_zaynn',\n",
       " 'sri.nidhi_r',\n",
       " 'ramansinghbisht',\n",
       " 'rameeta42',\n",
       " 'shubhraghoshalchauhan',\n",
       " 'vaishviness',\n",
       " 'muslimah370',\n",
       " 'payal_saha93',\n",
       " 'singhgram',\n",
       " '__.dustu__',\n",
       " 'shiva00000007',\n",
       " 'cook.unity',\n",
       " 'ichimikos',\n",
       " 'monasterydoon',\n",
       " 'manoj_bagadia',\n",
       " 'nupurterway',\n",
       " 'somnath7076210774',\n",
       " 'jayantd28',\n",
       " '____b_is_mi_ta_b_ora__',\n",
       " '9h____8',\n",
       " 'sarathprakashmv',\n",
       " 'junaidulshafi',\n",
       " 'felicitystreet07',\n",
       " 'tush_tennis',\n",
       " 'prince_god100',\n",
       " 'roohi.gem',\n",
       " 'sandakaari_daw',\n",
       " 'sanjai1390',\n",
       " 'reena_dewan',\n",
       " 'severallooksbysimran',\n",
       " 'singhharsha_123d',\n",
       " 'the_food_trailers',\n",
       " '_._._sh0ts0flife__',\n",
       " 'aliawaiswarraich',\n",
       " 'debanjandeba.dasgupta',\n",
       " 'gurvinder2008',\n",
       " 'd_tree_sisters_garden',\n",
       " 'supriya.aroor1202',\n",
       " 'safwan.kudia',\n",
       " 'therottensoul',\n",
       " 'rickshaw_villa',\n",
       " 'rishabhjaiswal97',\n",
       " 'thepankajkadyan',\n",
       " 'vsatyen',\n",
       " 'mr__shivam.06',\n",
       " 'nikitabansall9',\n",
       " 'akshayasantharam',\n",
       " 'shekh.nasira',\n",
       " 'kolkatapeopleproject',\n",
       " 'dia00011',\n",
       " '__mr___cop__',\n",
       " 'vakharia.c',\n",
       " 'indersaheb123',\n",
       " 'anaya_19_',\n",
       " 'paramsharma.09',\n",
       " 'the.mayankmishra',\n",
       " 'chattyoutlined',\n",
       " 'prince_singh27',\n",
       " 'superchaiofficial',\n",
       " 'sampeters93',\n",
       " 'shecooks.healthy',\n",
       " 'doc_p.s.l.s',\n",
       " 'girish_chakurkar2121',\n",
       " 'shubh.52012',\n",
       " 'amit___mandal',\n",
       " 'briyaniislove',\n",
       " 'pr_av_ee_ns',\n",
       " 'pronoob_bot',\n",
       " 'snchit',\n",
       " 'priyad22',\n",
       " 'aagoshk1',\n",
       " 'hustler_atulsharma',\n",
       " '_missrosh01',\n",
       " 'i_am_jeet_25_',\n",
       " 'randhawadeep0019',\n",
       " 'jitenderchauhan07',\n",
       " 'osama.khan94',\n",
       " 'vishnu.adeep',\n",
       " 'dhananjai684',\n",
       " 'mohammedabdulqayyum786']"
      ]
     },
     "execution_count": 208,
     "metadata": {},
     "output_type": "execute_result"
    }
   ],
   "source": [
    "followers=[]\n",
    "count=0\n",
    "a=driver.find_elements_by_class_name('notranslate')\n",
    "\n",
    "for i in a:\n",
    "    if count>=500:\n",
    "        break\n",
    "    driver.execute_script('arguments[0].scrollIntoView(0, 100);', driver.find_element_by_xpath('//ul[contains(@class,\"jSC57\")]'))\n",
    "    time.sleep(2)\n",
    "    followers.append(i.get_attribute('innerHTML'))\n",
    "    count+=1\n",
    "    \n",
    "followers"
   ]
  },
  {
   "cell_type": "markdown",
   "id": "de9b867e",
   "metadata": {},
   "source": [
    "### Printing all the followers of \"foodtalkindia\" that user is following but those who don't follow the user:\n",
    "\n",
    "I did this by extracting and saving a list of all the user's followers(myfollowers) and those who are followed by the user(following). and getting the answer by using \"(followers_of_foodtalkindia_that_user_is_following)-(user's_followers)\""
   ]
  },
  {
   "cell_type": "code",
   "execution_count": 270,
   "id": "a1abaf8f",
   "metadata": {},
   "outputs": [
    {
     "name": "stderr",
     "output_type": "stream",
     "text": [
      "<ipython-input-270-024488e000fe>:1: DeprecationWarning: find_element_by_* commands are deprecated. Please use find_element() instead\n",
      "  total_followers=(driver.find_element_by_xpath('//section[@class=\"zwlfE\"]//ul/li[3]/a/span').get_attribute('innerHTML'))\n",
      "<ipython-input-270-024488e000fe>:2: DeprecationWarning: find_element_by_* commands are deprecated. Please use find_element() instead\n",
      "  driver.find_element_by_xpath('//section[@class=\"zwlfE\"]//ul/li[3]').click()\n"
     ]
    }
   ],
   "source": [
    "total_followers=(driver.find_element_by_xpath('//section[@class=\"zwlfE\"]//ul/li[3]/a/span').get_attribute('innerHTML'))\n",
    "driver.find_element_by_xpath('//section[@class=\"zwlfE\"]//ul/li[3]').click()"
   ]
  },
  {
   "cell_type": "code",
   "execution_count": 271,
   "id": "9f26cc41",
   "metadata": {},
   "outputs": [],
   "source": [
    "locale.setlocale(locale.LC_ALL, \"\")\n",
    "total_followers=locale.atoi(total_followers)"
   ]
  },
  {
   "cell_type": "markdown",
   "id": "684b6d71",
   "metadata": {},
   "source": [
    "##### since loading 5053 users will take a lot of time on my old device. so i am not running this on my device"
   ]
  },
  {
   "cell_type": "code",
   "execution_count": 274,
   "id": "9d691001",
   "metadata": {},
   "outputs": [
    {
     "name": "stderr",
     "output_type": "stream",
     "text": [
      "<ipython-input-274-273ad487ae24>:6: DeprecationWarning: find_elements_by_* commands are deprecated. Please use find_elements() instead\n",
      "  elements=driver.find_elements_by_xpath('//a[contains(@class, \"notranslate\")]')\n",
      "<ipython-input-274-273ad487ae24>:9: DeprecationWarning: find_element_by_* commands are deprecated. Please use find_element() instead\n",
      "  driver.execute_script('arguments[0].scrollIntoView(0, 100);', driver.find_element_by_xpath('//ul[contains(@class, \"jSC57\")]'))\n"
     ]
    }
   ],
   "source": [
    "while True:\n",
    "    try:\n",
    "        myfollowers=[]\n",
    "        count=0\n",
    "        while True:\n",
    "            elements=driver.find_elements_by_xpath('//a[contains(@class, \"notranslate\")]')\n",
    "            if len(elements)<total_followers:\n",
    "                waiter=WebDriverWait(driver, 10).until(EC.presence_of_element_located((By.XPATH, '//ul[contains(@class, \"jSC57\")]')))\n",
    "                driver.execute_script('arguments[0].scrollIntoView(0, 100);', driver.find_element_by_xpath('//ul[contains(@class, \"jSC57\")]'))\n",
    "                time.sleep(0.8)\n",
    "            i=elements[count]\n",
    "            myfollowers.append(i.get_attribute('innerHTML'))\n",
    "            if len(myfollowers)==total_followers:\n",
    "                break\n",
    "            count+=1\n",
    "        break\n",
    "    except StaleElementReferenceException:\n",
    "        continue"
   ]
  },
  {
   "cell_type": "code",
   "execution_count": 285,
   "id": "de340313",
   "metadata": {},
   "outputs": [
    {
     "name": "stderr",
     "output_type": "stream",
     "text": [
      "<ipython-input-285-321e7da0bcbf>:1: DeprecationWarning: find_element_by_* commands are deprecated. Please use find_element() instead\n",
      "  total_follow=(driver.find_element_by_xpath('//section[@class=\"zwlfE\"]//ul/li[2]/a/span').get_attribute('innerHTML'))\n",
      "<ipython-input-285-321e7da0bcbf>:2: DeprecationWarning: find_element_by_* commands are deprecated. Please use find_element() instead\n",
      "  driver.find_element_by_xpath('//section[@class=\"zwlfE\"]//ul/li[2]').click()\n"
     ]
    }
   ],
   "source": [
    "total_follow=(driver.find_element_by_xpath('//section[@class=\"zwlfE\"]//ul/li[2]/a/span').get_attribute('innerHTML'))\n",
    "driver.find_element_by_xpath('//section[@class=\"zwlfE\"]//ul/li[2]').click()"
   ]
  },
  {
   "cell_type": "code",
   "execution_count": 292,
   "id": "9b51e836",
   "metadata": {},
   "outputs": [],
   "source": [
    "total_following=total_follow.split('k')\n",
    "total_following=int(total_following[0])*1000"
   ]
  },
  {
   "cell_type": "code",
   "execution_count": null,
   "id": "275676f1",
   "metadata": {},
   "outputs": [],
   "source": [
    "following=set(following)\n",
    "myfollowers=set(myfollowers)\n",
    "foodtalkindia=set(foodtalkindia)\n",
    "followers_of_foodtalkindia_that_i_am_following= following.intersection(foodtalkindia)\n",
    "print('Given below is a set of all the followers of “foodtalkindia” that I am following but those who don’t follow me.')\n",
    "if len(followers_of_foodtalkindia_that_i_am_following-myfollowers)==0:\n",
    "    print(\"--->No such followers\")\n",
    "for i in followers_of_foodtalkindia_that_i_am_following-myfollowers:\n",
    "    print(i)"
   ]
  },
  {
   "cell_type": "markdown",
   "id": "bd4c971d",
   "metadata": {},
   "source": [
    "Given below is a set of all the followers of “foodtalkindia” that I am following but those who don’t follow me.\n",
    "--->No such followers"
   ]
  },
  {
   "cell_type": "markdown",
   "id": "776a6e67",
   "metadata": {},
   "source": [
    "## Visiting Coding Ninjas and checking their story with given conditions:"
   ]
  },
  {
   "cell_type": "code",
   "execution_count": 293,
   "id": "a3476c1e",
   "metadata": {},
   "outputs": [
    {
     "name": "stderr",
     "output_type": "stream",
     "text": [
      "<ipython-input-293-36e58b215a10>:1: DeprecationWarning: find_element_by_* commands are deprecated. Please use find_element() instead\n",
      "  driver.find_element_by_class_name('TqC_a').click()\n"
     ]
    }
   ],
   "source": [
    "driver.find_element_by_class_name('TqC_a').click()"
   ]
  },
  {
   "cell_type": "code",
   "execution_count": 294,
   "id": "86ffadb3",
   "metadata": {},
   "outputs": [
    {
     "name": "stderr",
     "output_type": "stream",
     "text": [
      "<ipython-input-294-906b8789418f>:1: DeprecationWarning: find_element_by_* commands are deprecated. Please use find_element() instead\n",
      "  search_box=driver.find_element_by_class_name('XTCLo')\n"
     ]
    }
   ],
   "source": [
    "search_box=driver.find_element_by_class_name('XTCLo')\n",
    "search_box.send_keys('coding.ninjas')"
   ]
  },
  {
   "cell_type": "code",
   "execution_count": 295,
   "id": "afc7ab82",
   "metadata": {},
   "outputs": [
    {
     "name": "stderr",
     "output_type": "stream",
     "text": [
      "<ipython-input-295-eb4b4d70753c>:1: DeprecationWarning: find_element_by_* commands are deprecated. Please use find_element() instead\n",
      "  driver.find_element_by_class_name('uL8Hv').click()\n"
     ]
    }
   ],
   "source": [
    "driver.find_element_by_class_name('uL8Hv').click()"
   ]
  },
  {
   "cell_type": "code",
   "execution_count": 296,
   "id": "6e7d6222",
   "metadata": {},
   "outputs": [
    {
     "name": "stdout",
     "output_type": "stream",
     "text": [
      "You have not seen the story yet! The story will be shown to you now. check out the driver window\n"
     ]
    },
    {
     "name": "stderr",
     "output_type": "stream",
     "text": [
      "<ipython-input-296-9bf6b2dae79f>:2: DeprecationWarning: find_element_by_* commands are deprecated. Please use find_element() instead\n",
      "  if int(driver.find_element_by_xpath('//div[contains(@class, \"h5uC0\")]/canvas').get_attribute('height'))==168:\n",
      "<ipython-input-296-9bf6b2dae79f>:4: DeprecationWarning: find_element_by_* commands are deprecated. Please use find_element() instead\n",
      "  driver.find_element_by_xpath('//div[contains(@class, \"h5uC0\")]').click()\n"
     ]
    }
   ],
   "source": [
    "try:\n",
    "    if int(driver.find_element_by_xpath('//div[contains(@class, \"h5uC0\")]/canvas').get_attribute('height'))==168:\n",
    "        print('You have not seen the story yet! The story will be shown to you now. check out the driver window')\n",
    "        driver.find_element_by_xpath('//div[contains(@class, \"h5uC0\")]').click()\n",
    "    elif int(driver.find_element_by_xpath('//div[contains(@class, \"h5uC0\")]/canvas').get_attribute('height'))==166:\n",
    "        print('You have already seen the story!')\n",
    "except NoSuchElementException:\n",
    "    print('The user has no story!')"
   ]
  },
  {
   "cell_type": "code",
   "execution_count": 297,
   "id": "4db40b34",
   "metadata": {},
   "outputs": [
    {
     "name": "stdout",
     "output_type": "stream",
     "text": [
      "You have already seen the story!\n"
     ]
    },
    {
     "name": "stderr",
     "output_type": "stream",
     "text": [
      "<ipython-input-297-9bf6b2dae79f>:2: DeprecationWarning: find_element_by_* commands are deprecated. Please use find_element() instead\n",
      "  if int(driver.find_element_by_xpath('//div[contains(@class, \"h5uC0\")]/canvas').get_attribute('height'))==168:\n",
      "<ipython-input-297-9bf6b2dae79f>:5: DeprecationWarning: find_element_by_* commands are deprecated. Please use find_element() instead\n",
      "  elif int(driver.find_element_by_xpath('//div[contains(@class, \"h5uC0\")]/canvas').get_attribute('height'))==166:\n"
     ]
    }
   ],
   "source": [
    "try:\n",
    "    if int(driver.find_element_by_xpath('//div[contains(@class, \"h5uC0\")]/canvas').get_attribute('height'))==168:\n",
    "        print('You have not seen the story yet! The story will be shown to you now. check out the driver window')\n",
    "        driver.find_element_by_xpath('//div[contains(@class, \"h5uC0\")]').click()\n",
    "    elif int(driver.find_element_by_xpath('//div[contains(@class, \"h5uC0\")]/canvas').get_attribute('height'))==166:\n",
    "        print('You have already seen the story!')\n",
    "except NoSuchElementException:\n",
    "    print('The user has no story!')"
   ]
  },
  {
   "cell_type": "code",
   "execution_count": null,
   "id": "406ee466",
   "metadata": {},
   "outputs": [],
   "source": []
  }
 ],
 "metadata": {
  "kernelspec": {
   "display_name": "Python 3",
   "language": "python",
   "name": "python3"
  },
  "language_info": {
   "codemirror_mode": {
    "name": "ipython",
    "version": 3
   },
   "file_extension": ".py",
   "mimetype": "text/x-python",
   "name": "python",
   "nbconvert_exporter": "python",
   "pygments_lexer": "ipython3",
   "version": "3.8.8"
  }
 },
 "nbformat": 4,
 "nbformat_minor": 5
}
