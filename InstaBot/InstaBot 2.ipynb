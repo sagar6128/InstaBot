{
 "cells": [
  {
   "cell_type": "markdown",
   "id": "6772d34c",
   "metadata": {},
   "source": [
    "# Usage Instructions\n",
    "- Just run the complete code once. Do not run each Cell separatly\n",
    "- Let the driver window run in maximised mode. Do not run it in windowed mode(It will maximise by itself) Just run   the code, sit back and relax.\n",
    "- Do not make any changes in the code except the SAMPLE_USERNAME and SAMPLE_PASSWORD. you can easily change them by   refering the code below.\n",
    "- This code is written and tested with 4G network(100Mbps). if you are using a 3G connection, you might want to       change the time gap between several Cells(at the end of some cells there is a line of code whose parameters you     might want to alter.\n",
    "- Sometimes you will feel like the website is frozen. No! Its not. The code is still running doing its work. You     will notice this specially when the list of followers is being scrolled down. it will take some time to read       through all the follower's usernames."
   ]
  },
  {
   "cell_type": "markdown",
   "id": "6c5f9ba6",
   "metadata": {},
   "source": [
    "## Importing Important Libraries:"
   ]
  },
  {
   "cell_type": "code",
   "execution_count": 112,
   "id": "e361225e",
   "metadata": {},
   "outputs": [],
   "source": [
    "#importing important modules\n",
    "import matplotlib.pyplot as plt\n",
    "import pandas as pd\n",
    "import numpy as np\n",
    "from selenium import webdriver\n",
    "from selenium.webdriver.common.keys import Keys\n",
    "import time\n",
    "from selenium.common.exceptions import NoSuchElementException\n",
    "from selenium.common.exceptions import StaleElementReferenceException\n",
    "from selenium.common.exceptions import TimeoutException\n",
    "from selenium.webdriver.support.ui import WebDriverWait\n",
    "from selenium.webdriver.support import expected_conditions as EC\n",
    "from selenium.webdriver.common.by import By\n",
    "from selenium.webdriver.support.select import Select\n",
    "from webdriver_manager.chrome import ChromeDriverManager"
   ]
  },
  {
   "cell_type": "markdown",
   "id": "29fc1d6e",
   "metadata": {},
   "source": [
    "## Starting Chrome WebDriver:"
   ]
  },
  {
   "cell_type": "code",
   "execution_count": 39,
   "id": "9c6f0611",
   "metadata": {},
   "outputs": [
    {
     "name": "stderr",
     "output_type": "stream",
     "text": [
      "[WDM] - \n",
      "\n",
      "[WDM] - ====== WebDriver manager ======\n",
      "[WDM] - Current google-chrome version is 95.0.4638\n",
      "[WDM] - Get LATEST driver version for 95.0.4638\n",
      "[WDM] - Driver [/Users/sagarprasad/.wdm/drivers/chromedriver/mac64/95.0.4638.54/chromedriver] found in cache\n",
      "<ipython-input-39-c026f0c15647>:1: DeprecationWarning: executable_path has been deprecated, please pass in a Service object\n",
      "  driver = webdriver.Chrome(ChromeDriverManager().install())\n"
     ]
    }
   ],
   "source": [
    "driver = webdriver.Chrome(ChromeDriverManager().install())"
   ]
  },
  {
   "cell_type": "code",
   "execution_count": 40,
   "id": "de7fe0eb",
   "metadata": {},
   "outputs": [],
   "source": [
    "driver.get('https://www.instagram.com')"
   ]
  },
  {
   "cell_type": "code",
   "execution_count": 41,
   "id": "d37bbb60",
   "metadata": {},
   "outputs": [
    {
     "name": "stderr",
     "output_type": "stream",
     "text": [
      "<ipython-input-41-336bdb1b97e9>:1: DeprecationWarning: find_element_by_* commands are deprecated. Please use find_element() instead\n",
      "  username=driver.find_element_by_name('username')\n",
      "<ipython-input-41-336bdb1b97e9>:3: DeprecationWarning: find_element_by_* commands are deprecated. Please use find_element() instead\n",
      "  password = driver.find_element_by_name('password')\n"
     ]
    }
   ],
   "source": [
    "username=driver.find_element_by_name('username')\n",
    "username.send_keys('SAMPLE_USERNAME')\n",
    "password = driver.find_element_by_name('password')\n",
    "password.send_keys('SAMPLE_PASSWORD')"
   ]
  },
  {
   "cell_type": "code",
   "execution_count": 42,
   "id": "019bad09",
   "metadata": {},
   "outputs": [
    {
     "name": "stderr",
     "output_type": "stream",
     "text": [
      "<ipython-input-42-912353738942>:1: DeprecationWarning: find_element_by_* commands are deprecated. Please use find_element() instead\n",
      "  btn= driver.find_element_by_class_name('sqdOP')\n"
     ]
    }
   ],
   "source": [
    "btn= driver.find_element_by_class_name('sqdOP')\n",
    "btn.submit()"
   ]
  },
  {
   "cell_type": "code",
   "execution_count": 43,
   "id": "f15022d7",
   "metadata": {},
   "outputs": [
    {
     "name": "stderr",
     "output_type": "stream",
     "text": [
      "<ipython-input-43-f840f9640c23>:1: DeprecationWarning: find_element_by_* commands are deprecated. Please use find_element() instead\n",
      "  driver.find_element_by_class_name('HoLwm').click()\n"
     ]
    }
   ],
   "source": [
    "driver.find_element_by_class_name('HoLwm').click()"
   ]
  },
  {
   "cell_type": "code",
   "execution_count": 86,
   "id": "ecf4e9ff",
   "metadata": {},
   "outputs": [
    {
     "name": "stderr",
     "output_type": "stream",
     "text": [
      "<ipython-input-86-de3cd2d0a45d>:1: DeprecationWarning: find_element_by_* commands are deprecated. Please use find_element() instead\n",
      "  search_box=driver.find_element_by_class_name('XTCLo')\n"
     ]
    }
   ],
   "source": [
    "search_box=driver.find_element_by_class_name('XTCLo')\n",
    "search_box.send_keys('food')"
   ]
  },
  {
   "cell_type": "code",
   "execution_count": 87,
   "id": "bfbb057a",
   "metadata": {},
   "outputs": [
    {
     "name": "stderr",
     "output_type": "stream",
     "text": [
      "<ipython-input-87-ede04658be98>:1: DeprecationWarning: find_elements_by_* commands are deprecated. Please use find_elements() instead\n",
      "  user=driver.find_elements_by_class_name('uL8Hv')\n"
     ]
    },
    {
     "data": {
      "text/plain": [
       "['dilsefoodie',\n",
       " 'foodtalkindia',\n",
       " 'foodiewithscrub',\n",
       " 'food_ohfood',\n",
       " 'foodiewithscrubs',\n",
       " 'food.before.mood',\n",
       " 'food',\n",
       " 'food_fashion_theatre',\n",
       " 'foodviajeros',\n",
       " 'food52']"
      ]
     },
     "execution_count": 87,
     "metadata": {},
     "output_type": "execute_result"
    }
   ],
   "source": [
    "user=driver.find_elements_by_class_name('uL8Hv')\n",
    "users=[]\n",
    "for i in user[:10]:\n",
    "    users.append(i.get_attribute('innerHTML'))\n",
    "# driver.back()"
   ]
  },
  {
   "cell_type": "code",
   "execution_count": 88,
   "id": "93075397",
   "metadata": {},
   "outputs": [
    {
     "name": "stderr",
     "output_type": "stream",
     "text": [
      "<ipython-input-88-4a4d14b8e114>:1: DeprecationWarning: find_element_by_* commands are deprecated. Please use find_element() instead\n",
      "  driver.find_element_by_class_name('coreSpriteSearchClear').click()\n"
     ]
    }
   ],
   "source": [
    "driver.find_element_by_class_name('coreSpriteSearchClear').click()"
   ]
  },
  {
   "cell_type": "code",
   "execution_count": 129,
   "id": "42f3c356",
   "metadata": {},
   "outputs": [
    {
     "name": "stderr",
     "output_type": "stream",
     "text": [
      "<ipython-input-129-e0c41ae8b2b0>:3: DeprecationWarning: find_element_by_* commands are deprecated. Please use find_element() instead\n",
      "  driver.find_element_by_class_name('TqC_a').click()\n",
      "<ipython-input-129-e0c41ae8b2b0>:4: DeprecationWarning: find_element_by_* commands are deprecated. Please use find_element() instead\n",
      "  search_box=driver.find_element_by_class_name('XTCLo')\n",
      "<ipython-input-129-e0c41ae8b2b0>:8: DeprecationWarning: find_element_by_* commands are deprecated. Please use find_element() instead\n",
      "  driver.find_element_by_class_name('uL8Hv').click()\n",
      "<ipython-input-129-e0c41ae8b2b0>:9: DeprecationWarning: find_element_by_* commands are deprecated. Please use find_element() instead\n",
      "  followers.append(driver.find_element_by_xpath('//a[@class=\"-nal3 \"]/span[@class=\"g47SY \"]').get_attribute('innerHTML'))\n"
     ]
    }
   ],
   "source": [
    "followers=[]\n",
    "for user in users[:10]:\n",
    "    driver.find_element_by_class_name('TqC_a').click()\n",
    "    search_box=driver.find_element_by_class_name('XTCLo')\n",
    "    search_box.send_keys(user)\n",
    "#     WebDriverWait(driver, 10).until(EC.presence_of_element_located((By.XPATH, \"//div[@class='fuqBx']\")))\n",
    "    time.sleep(3.2)\n",
    "    driver.find_element_by_class_name('uL8Hv').click()\n",
    "    followers.append(driver.find_element_by_xpath('//a[@class=\"-nal3 \"]/span[@class=\"g47SY \"]').get_attribute('innerHTML'))\n",
    "    time.sleep(3.2)"
   ]
  },
  {
   "cell_type": "code",
   "execution_count": 122,
   "id": "12941fa6",
   "metadata": {},
   "outputs": [
    {
     "data": {
      "text/plain": [
       "['dilsefoodie',\n",
       " 'foodtalkindia',\n",
       " 'foodiewithscrub',\n",
       " 'food_ohfood',\n",
       " 'foodiewithscrubs',\n",
       " 'food.before.mood',\n",
       " 'food',\n",
       " 'food_fashion_theatre',\n",
       " 'foodviajeros',\n",
       " 'food52']"
      ]
     },
     "execution_count": 122,
     "metadata": {},
     "output_type": "execute_result"
    }
   ],
   "source": [
    "users"
   ]
  },
  {
   "cell_type": "code",
   "execution_count": 130,
   "id": "db98c309",
   "metadata": {},
   "outputs": [
    {
     "data": {
      "text/plain": [
       "['925k',\n",
       " '307k',\n",
       " '1,273',\n",
       " '5,966',\n",
       " '8,768',\n",
       " '2,455',\n",
       " '925k',\n",
       " '10k',\n",
       " '5,020',\n",
       " '3.3m']"
      ]
     },
     "execution_count": 130,
     "metadata": {},
     "output_type": "execute_result"
    }
   ],
   "source": [
    "followers"
   ]
  },
  {
   "cell_type": "code",
   "execution_count": 131,
   "id": "62ede94c",
   "metadata": {},
   "outputs": [
    {
     "name": "stdout",
     "output_type": "stream",
     "text": [
      "food52\n",
      "food\n",
      "dilsefoodie\n",
      "foodtalkindia\n",
      "food_fashion_theatre\n"
     ]
    }
   ],
   "source": [
    "for i in range(len(followers)):\n",
    "    if 'k' in followers[i]:\n",
    "        followers[i]=float(followers[i][:-1])*1000\n",
    "    elif 'm' in followers[i]: \n",
    "        followers[i]=float(followers[i][:-1])*1000000\n",
    "    else:    \n",
    "        followers[i]=int(\"\".join(followers[i].split(',')))\n",
    "            \n",
    "followers=np.array(followers, dtype='int')\n",
    "users=np.array(users)\n",
    "#sorted in ascending order\n",
    "users=users[np.argsort(followers)][::-1]\n",
    "followers=followers[np.argsort(followers)][::-1]\n",
    "#now printing top 5 \n",
    "top5=[]\n",
    "for x in range(5):\n",
    "    print(users[x])\n",
    "    top5.append(users[x])\n",
    "#following is a list of users with highest number of followers among those top 10."
   ]
  },
  {
   "cell_type": "markdown",
   "id": "f3bb04ac",
   "metadata": {},
   "source": [
    "## Q1.2 Finding the number of posts these handles have done in the previous 3 days."
   ]
  },
  {
   "cell_type": "code",
   "execution_count": 143,
   "id": "c8f64d7f",
   "metadata": {},
   "outputs": [
    {
     "name": "stdout",
     "output_type": "stream",
     "text": [
      "food52 "
     ]
    },
    {
     "name": "stderr",
     "output_type": "stream",
     "text": [
      "<ipython-input-143-ebded83bb494>:5: DeprecationWarning: find_element_by_* commands are deprecated. Please use find_element() instead\n",
      "  search_box=driver.find_element_by_class_name('XTCLo')\n",
      "<ipython-input-143-ebded83bb494>:9: DeprecationWarning: find_element_by_* commands are deprecated. Please use find_element() instead\n",
      "  driver.find_element_by_class_name('uL8Hv').click()\n",
      "<ipython-input-143-ebded83bb494>:12: DeprecationWarning: find_elements_by_* commands are deprecated. Please use find_elements() instead\n",
      "  for i in driver.find_elements_by_xpath('//div[@class=\"_9AhH0\"]'):\n",
      "<ipython-input-143-ebded83bb494>:15: DeprecationWarning: find_element_by_* commands are deprecated. Please use find_element() instead\n",
      "  time_string=driver.find_element_by_xpath('//time[contains(@class, \"Nzb55\")]').get_attribute('innerHTML')\n"
     ]
    },
    {
     "name": "stdout",
     "output_type": "stream",
     "text": [
      "have done 16 posts in past 3 days\n"
     ]
    },
    {
     "name": "stderr",
     "output_type": "stream",
     "text": [
      "<ipython-input-143-ebded83bb494>:27: DeprecationWarning: find_element_by_* commands are deprecated. Please use find_element() instead\n",
      "  driver.find_element_by_class_name('cq2ai').click()\n"
     ]
    },
    {
     "name": "stdout",
     "output_type": "stream",
     "text": [
      "food have done 4 posts in past 3 days\n",
      "dilsefoodie have done 4 posts in past 3 days\n",
      "foodtalkindia have done 2 posts in past 3 days\n",
      "food_fashion_theatre have done 7 posts in past 3 days\n"
     ]
    }
   ],
   "source": [
    "no_of_posts=[]\n",
    "for user in top5:\n",
    "    time.sleep(3)\n",
    "    print(user, end=' ')\n",
    "    search_box=driver.find_element_by_class_name('XTCLo')\n",
    "    search_box.send_keys(user)\n",
    "#     WebDriverWait(driver, 10).until(EC.presence_of_element_located((By.XPATH, \"//div[@class='fuqBx']\")))\n",
    "    time.sleep(5)\n",
    "    driver.find_element_by_class_name('uL8Hv').click()\n",
    "    time.sleep(1)\n",
    "    count=0\n",
    "    for i in driver.find_elements_by_xpath('//div[@class=\"_9AhH0\"]'):\n",
    "        i.click()\n",
    "        WebDriverWait(driver, 10).until(EC.presence_of_element_located((By.XPATH, '//time[contains(@class, \"Nzb55\")]')))\n",
    "        time_string=driver.find_element_by_xpath('//time[contains(@class, \"Nzb55\")]').get_attribute('innerHTML')\n",
    "        if time_string[-1] in ['h', 's']:\n",
    "            count+=1\n",
    "        elif time_string[-1]=='d' and int(time_string[:-1])<=3:\n",
    "            count+=1\n",
    "        else:\n",
    "            driver.back()\n",
    "            break\n",
    "        driver.back()\n",
    "        time.sleep(5)\n",
    "    print(\"have done\", count, \"posts in past 3 days\")\n",
    "    no_of_posts.append(count)\n",
    "    driver.find_element_by_class_name('cq2ai').click()"
   ]
  },
  {
   "cell_type": "markdown",
   "id": "b3e19e87",
   "metadata": {},
   "source": [
    "## Q1.3. Plotting Graph"
   ]
  },
  {
   "cell_type": "code",
   "execution_count": 145,
   "id": "3f1dd8d5",
   "metadata": {},
   "outputs": [
    {
     "name": "stderr",
     "output_type": "stream",
     "text": [
      "<ipython-input-145-ddd409afac2a>:3: MatplotlibDeprecationWarning: Using a string of single character colors as a color sequence is deprecated since 3.2 and will be removed two minor releases later. Use an explicit list instead.\n",
      "  plt.bar(users, followers, color='rbycg')\n"
     ]
    },
    {
     "data": {
      "image/png": "[encoded data removed]",
      "text/plain": [
       "<Figure size 720x504 with 1 Axes>"
      ]
     },
     "metadata": {
      "needs_background": "light"
     },
     "output_type": "display_data"
    },
    {
     "name": "stderr",
     "output_type": "stream",
     "text": [
      "<ipython-input-145-ddd409afac2a>:14: MatplotlibDeprecationWarning: Using a string of single character colors as a color sequence is deprecated since 3.2 and will be removed two minor releases later. Use an explicit list instead.\n",
      "  plt.bar(top5, no_of_posts, color='rbycg')\n"
     ]
    },
    {
     "data": {
      "image/png": "[encoded data removed]",
      "text/plain": [
       "<Figure size 720x504 with 1 Axes>"
      ]
     },
     "metadata": {
      "needs_background": "light"
     },
     "output_type": "display_data"
    }
   ],
   "source": [
    "#plotting a graph between those 10 users and the number of followers\n",
    "plt.figure(figsize=(10, 7))\n",
    "plt.bar(users, followers, color='rbycg')\n",
    "plt.xticks(rotation=45, size=12)\n",
    "plt.yticks(size=12)\n",
    "plt.title('Users versus numberof followers', size=12)\n",
    "plt.xlabel('users--->', size=12)\n",
    "plt.ylabel('followers--->', size=12)\n",
    "plt.grid()\n",
    "plt.show()\n",
    "\n",
    "#graph between top 5 users and the number of posts\n",
    "plt.figure(figsize=(10, 7))\n",
    "plt.bar(top5, no_of_posts, color='rbycg')\n",
    "plt.xticks(rotation=45, size=12)\n",
    "plt.yticks(size=12)\n",
    "plt.title('Users versus number of posts', size=12)\n",
    "plt.xlabel('users--->', size=12)\n",
    "plt.ylabel('number of posts--->', size=12)\n",
    "plt.grid()\n",
    "plt.show()"
   ]
  },
  {
   "cell_type": "markdown",
   "id": "50a20dce",
   "metadata": {},
   "source": [
    "## Q2.1. Opening the 5 handles I obtained in the last question, and scraping the content of the first 10 posts of each handle."
   ]
  },
  {
   "cell_type": "code",
   "execution_count": 147,
   "id": "dc9f8a9d",
   "metadata": {},
   "outputs": [
    {
     "name": "stderr",
     "output_type": "stream",
     "text": [
      "<ipython-input-147-78b790d9b28f>:5: DeprecationWarning: find_element_by_* commands are deprecated. Please use find_element() instead\n",
      "  search_box=driver.find_element_by_class_name('XTCLo')\n",
      "<ipython-input-147-78b790d9b28f>:8: DeprecationWarning: find_element_by_* commands are deprecated. Please use find_element() instead\n",
      "  driver.find_element_by_class_name('uL8Hv').click()\n",
      "<ipython-input-147-78b790d9b28f>:11: DeprecationWarning: find_elements_by_* commands are deprecated. Please use find_elements() instead\n",
      "  for i in driver.find_elements_by_xpath('//div[@class=\"_9AhH0\"]'):\n",
      "<ipython-input-147-78b790d9b28f>:14: DeprecationWarning: find_element_by_* commands are deprecated. Please use find_element() instead\n",
      "  contents.append(driver.find_element_by_xpath('//div[contains(@class, \"C4VMK\")]/span').get_attribute('textContent'))\n",
      "<ipython-input-147-78b790d9b28f>:15: DeprecationWarning: find_elements_by_* commands are deprecated. Please use find_elements() instead\n",
      "  for hashes in driver.find_elements_by_xpath('//div[contains(@class, \"C4VMK\")]/span/a'):\n",
      "<ipython-input-147-78b790d9b28f>:23: DeprecationWarning: find_element_by_* commands are deprecated. Please use find_element() instead\n",
      "  driver.find_element_by_class_name('cq2ai').click()\n"
     ]
    }
   ],
   "source": [
    "contents=[]\n",
    "hashtags=[]\n",
    "for user in top5:\n",
    "    time.sleep(3)\n",
    "    search_box=driver.find_element_by_class_name('XTCLo')\n",
    "    search_box.send_keys(user)\n",
    "    time.sleep(5)\n",
    "    driver.find_element_by_class_name('uL8Hv').click()\n",
    "    time.sleep(1)\n",
    "    count=0\n",
    "    for i in driver.find_elements_by_xpath('//div[@class=\"_9AhH0\"]'):\n",
    "        i.click()\n",
    "        WebDriverWait(driver, 10).until(EC.presence_of_element_located((By.XPATH, '//div[contains(@class, \"C4VMK\")]')))\n",
    "        contents.append(driver.find_element_by_xpath('//div[contains(@class, \"C4VMK\")]/span').get_attribute('textContent'))\n",
    "        for hashes in driver.find_elements_by_xpath('//div[contains(@class, \"C4VMK\")]/span/a'):\n",
    "            hashtags.append(hashes.get_attribute('innerHTML'))\n",
    "        count+=1\n",
    "        if count>=10:\n",
    "            driver.back()\n",
    "            break\n",
    "        driver.back()\n",
    "        time.sleep(1)\n",
    "    driver.find_element_by_class_name('cq2ai').click()\n",
    "#finally i have two lists one named hashtags which contains all the hashtags, but unfortunately it also contains some usernames too.\n",
    "#wee nee to filter them. and we also have a list named \"content\" which contains all the content of the perticular post"
   ]
  },
  {
   "cell_type": "code",
   "execution_count": 148,
   "id": "38e22246",
   "metadata": {},
   "outputs": [
    {
     "name": "stdout",
     "output_type": "stream",
     "text": [
      "Sunday mornings 🤝 Coffee. That duo is made even better when you add in this reusable chemex filter that's designed to brew a full-bodied cup of joe. Shop for yours at the link in bio. 📸: @juliagartland\n",
      "-----------------------------------------------------------------------------------------------\n",
      "When they look this good, it's hard to say no to a big side of brussels sprouts! And, with that, #f52community SIDES week continues. For these recipes, from @lastingredient,  @dashofmandi, and @merrillstubbs, head to the link in bio. #f52grams\n",
      "-----------------------------------------------------------------------------------------------\n",
      "When it comes to chocolate chip cookies, we'll trust @doriegreenspan's recipe that she's been making for decades. Hint: they have a touch more salt, and a bit more vanilla. For the full recipe, head to the link in bio. 📸: @mj_kroeger #f52community\n",
      "-----------------------------------------------------------------------------------------------\n",
      "For the perfect cozy chili recipe that doesn’t take all day long to simmer, @itsalislagle’s mom has got you covered. Watch as Ali walks you through Sheri's Shortcut Chili, the recipe that’s so easy, she made it in the back of her home on road. Link in bio for the recipe. #f52community\n",
      "-----------------------------------------------------------------------------------------------\n",
      "Kapusta Breakfast Toast is the perfect (hungover) Saturday morning meal. Kapusta is a traditional Polish dish that’s basically sauerkraut cooked with meat, typically bacon or sausage. For the full recipe, head to the link in bio. 📸: @whatbettefound #f52community\n",
      "-----------------------------------------------------------------------------------------------\n",
      "#f52community SIDES week continues with none other than... Mac and Cheese!! Head to the link in bio to try these Thanksgiving table worthy recipes from @themodernproper, @bringingithome_, and @marthastewart. #f52grams\n",
      "-----------------------------------------------------------------------------------------------\n",
      "Oh, nothing to see here, just Resident @carolinagelen making her glossy and wonderfully sweet-savory Caramelized Onion Gravy!! Grab the full recipe from our Resident Thanksgiving menu at the link in bio. #f52community\n",
      "-----------------------------------------------------------------------------------------------\n",
      "How to make creamy, cheesy scalloped potatoes even better? Add caramelized onions to them. Find out how to make Scalloped Potatoes with Caramelized Onions at the link in bio. 📸: @juliagartland #f52community\n",
      "-----------------------------------------------------------------------------------------------\n",
      "Some of us like to decorate for the holidays starting November 1st. Some of us like to wait until after Thanksgiving. Either way, this First Dibs Friday offer is for you! Today only, take 20% off with code HOLIDAY20 when you spend $100 or more on holiday decor. Head to the link in bio to shop for everything from Vintage-Inspired Food Ornaments to Marble & Walnut Menorahs and more. 📸: @juliagartland\n",
      "-----------------------------------------------------------------------------------------------\n",
      "Consider this photo from @kalememaybe our personal love letter to delicata squash! #f52community #f52grams\n",
      "-----------------------------------------------------------------------------------------------\n",
      "Peace ✌.......#valley #trending #travel #home #sardar #brotherhood #kashmir #sikh #turban #wanderlust#tourism #love #jk#adventure #valleyofflowers#amazing #love #mountains #photography\n",
      "-----------------------------------------------------------------------------------------------\n",
      "Keep it simple!!........#photos #nature #naturephotography #kashmir #hometown #scenic #mountains #waterfall #shotoniphone #sikh #sardari #turban#wanderlust #wanderer #valley #waters #fun #mountain #vincetchase\n",
      "-----------------------------------------------------------------------------------------------\n",
      "After so long gap !!insta is using me..#kashmir #kashmirtourism #wanderlust #wanderer #sardar #sikh #turban #valley #nature\n",
      "-----------------------------------------------------------------------------------------------\n",
      "I think this somewhat me!!! Thanks both of u 😍😍. . . #reflections #artistsoninstagram #sketch #handmade #scribble #kashmiri #sardar #turban #singh #stayhome #stayhomestaysafe #art\n",
      "-----------------------------------------------------------------------------------------------\n",
      "Getting first gift for ur cute niece is always a beautiful feeling!!!lockdown winter home!!Stay 🏡 ..#bossbaby #photography #photooftheday #sundayfunday #morning #sunlight #sunlightphotography #lawn #baby #cutebabies\n",
      "-----------------------------------------------------------------------------------------------\n",
      "Forever is composed of now's!!!! Old post but new vibes 😄😄....#photography #selfie #sardari #turbanator #beard #india #kashmiri #jammu\n",
      "-----------------------------------------------------------------------------------------------\n",
      "..#naturephotography #nature #quarantineandchill #wanderlust #wanderer #love #sardar #turban #shotonsony #life #mountains #mountainlife\n",
      "-----------------------------------------------------------------------------------------------\n",
      "Pighlay neelam sa behta hua yeh samaanNeeli neeli si khamoshiyaan!! ....#stayhome #naturephotography #shotoniphone #wanderlust #oldmemories #placestovisit #travelphotography #mountains #mountainlife\n",
      "-----------------------------------------------------------------------------------------------\n",
      "To walk in nature is to witness thousand miracles!!!!! Tbh....#nature  #naturephotography #sonyalpha #shots #wanderlust #oldmemories #silence #love #warmth #paradise\n",
      "-----------------------------------------------------------------------------------------------\n",
      "Simple yet adorable!!!!! Siblings ....#love #hangout #throwback #throwbackthursday #instagood #instagram\n",
      "-----------------------------------------------------------------------------------------------\n",
      "For Dinner I Made Matar Paneer For Her 😀 @dilsecouple 😊. Aapne Kya Khaya Dinner Mai Aaj ??#dilsefoodie #dilsecouple\n",
      "-----------------------------------------------------------------------------------------------\n",
      "Diwali Snacks - Open Pizza Burgers #dilsefoodie #dilsecouple\n",
      "-----------------------------------------------------------------------------------------------\n",
      "Unlimited Nonveg Menu At Just Rs 550 At Bobby Punjabi Rasoi, Kohat Enclave, DDA Market. @bprasoiHai Koi Bhukkad Insaan Friend Circle Mai ?#dilsefoodie #dilsecouple\n",
      "-----------------------------------------------------------------------------------------------\n",
      "Happy Diwali To All Of You Guys From Team Dilsefoodie 💕. #dilsefoodie #dilsecouple #diwalidecorations #diwalicelebration #aarti #diwali2021\n",
      "-----------------------------------------------------------------------------------------------\n",
      "Had This Amazing Massive Gold Burger From @louisburgerofficial. Amazing Food Quality And Perfect Taste 😊. Now Available In Delhi Also 😀#dilsecouple #dilsefoodie\n",
      "-----------------------------------------------------------------------------------------------\n",
      "Variety Of Milk Shakes At Sagar Juice, Indore#dilsecouple #dilsefoodie\n",
      "-----------------------------------------------------------------------------------------------\n",
      "Ye Kabhi Mat Try Karna In Indore Hai Koi Jo Itni Mirchi Khaa Sakta Ho??Location : Mr Bhel Bhandari #dilsefoodie #dilsecouple\n",
      "-----------------------------------------------------------------------------------------------\n",
      "Ye Hai Masala Dosa Ki Jaan ❤️.Matlab Iske Bina Dosa Kuch Nahi 😊.Konsa Dosa Apko Pasand Hai ?#dilsefoodie #dilsecouple\n",
      "-----------------------------------------------------------------------------------------------\n",
      "And Here Is The Full Recipe Of Hyderabadi Mutton Biryani My Style Not Authentic.With The Help Of @kingsdehydratedfoods Fried Onions It's Easy To Prepare Biryani And Korma Now 😀. #dilsecouple #dilsefoodie\n",
      "-----------------------------------------------------------------------------------------------\n",
      "#AdWant to know how I impressed my wife on Diwali? Well I made our festive dinner special with the Kwality Wall's Desi Kulfi Tub! 🍨😍 💛 This delicious dessert has creamy scoops of kulfi loaded with delicious dry fruits and yummy rose sauce flavor! A perfect dessert for Diwali! Relish this dreamy dessert and make Diwali Dinner extra special for you and your guests! 🎊 🍨✨What are you waiting for, head over to my story, tap on the link and order the flavourful Kwality Wall's Desi Kulfi Tub on Swiggy!🤗💕@kwalitywalls #kwalitywalls #tareekanaya #diwali #diwaligifts #diwalisweets #giftingidea #Diwalicelebration #tareekanayawithkwalitywalls #Desikulfi #kulfi #khushiyonkaflavour #dilsefoodie #dilsefoodie\n",
      "-----------------------------------------------------------------------------------------------\n",
      "#HotFind #ChickenWings🤤 Here’s a list of some clucking amazing chicken wings!Comment and tell us your favourite in the city.🙋🏻‍♀️📝\n",
      "-----------------------------------------------------------------------------------------------\n",
      "#LetsTalk #SouthIndianCuisine🤤😍 Think crisp dosas, melt-in-mouth idlis soaked in hot sambar and fragrant fish curries crackling with mustard seeds and curry leaves. Here’s a list of places in the capital you can head to for some yummm South Indian food!Comment and tell us your go-to places. 🕵🏻‍♀️\n",
      "-----------------------------------------------------------------------------------------------\n",
      "@bluemoonginofc Pomegranate Gin Punch 😍✨Throwing a party for family and friends this Diwali? Stir up this super yum Pomegranate Gin Punch with Blue Moon and see it do wonders for your reputation as a host! Here's how you prep it - Ingredients {Serves 6}:1. 240ml Blue Moon Gin 2. 270ml tonic water 3. 240ml pomegranate juice 4. 90ml freshly squeezed lime juice 5. Pomegranate arils6. Lemon wheel7. Rosemary sprigs for garnishDirection:1. Put some ice cubes into the punch bowl, pour in the pomegranate juice and pomegranate arils.2. Pour the Blue Moon gin, then the tonic.3. Squeeze in the lemon juice.4. Put in the lemon wheels and some more pomegranate arils into the punch bowl. Stir a few times to combine.5. Serve with a rosemary sprig popped in and pomegranate arils sprinkled on top in a glass.\n",
      "-----------------------------------------------------------------------------------------------\n",
      "The wait is over, WE’RE BACK!  ",
      "🍸🍸 ",
      " Get ready to paint the town ‘gin’, the @GinExplorersClub Festival is making its way back to Delhi this December!If you’re a brand looking for experiential integrations, hit us up for sponsorships at anjali@foodtalkindia.com.Can’t wait to get ‘ginning’ with you 😉🍸\n",
      "-----------------------------------------------------------------------------------------------\n",
      "#LetsTalk #HangoverCures 💀Feeling a little rough after this wild weekend? Well this is the post you need to bookmark!Comment and tell us some hangover cures you guys swear by.🤪\n",
      "-----------------------------------------------------------------------------------------------\n",
      "#HotFind @balblairwhiskySay hello to the Balblair 12YO, 15YO and 18YO single malt Scotch whisky, an exciting new range from Balblair Distillery - an exclusively premium range that’s sure to make a stunning companion for all you whisky lovers! Which of these would you try first? 🥃\n",
      "-----------------------------------------------------------------------------------------------\n",
      "A gem for every whisky enthusiast, Balblair is a brilliantly complex and balanced single malt Scotch whisky that’s definitely become a new favourite for our Founder, @shuchirsuri.@balblairwhisky is a rare whisky that’s always been driven by the idea of being made at a slow pace - sticking to the distillery’s ethos of prioritising quality over quantity. Get a taste of Balblair for yourself, you’re sure to want to reserve a spot for this one at your home bar! 🥃\n",
      "-----------------------------------------------------------------------------------------------\n",
      "#HotFind #PartySnacks🤤😍Good food means happier guests mean better mingling, which makes for better parties. It’s basically science. 😉😂So here’s a list that’ll come in handy! 🙋🏻‍♀️\n",
      "-----------------------------------------------------------------------------------------------\n",
      "GIVEAWAY ALERT! This giveaway is going to be a ‘Strong” one! 3 lucky ones will bring home a 6-pack of 🍺 and an owlsome collection of exciting White Owl merchandise! Gear up to enjoy your weekend with a chilled companion!All you have to do:• Follow @whiteowlbrewery 🦉• Name the 2 flavour notes in Spike 💪🏼• Tag a fellow beer lover 🍻P.S.1. Contest is open to residents of Delhi, Gurugram, Bangalore, Mumbai, Pune, Goa.2. Contest closes at midnight on Saturday, 30th October\n",
      "-----------------------------------------------------------------------------------------------\n",
      "For Owl of you that hold a ‘Strong' love for beer, here’s a 🍺 that's bound to make that love even Stronger! 💪Say hello to White Owl Spike - India's first Strong Craft Beer that’s Strong yet Smooth! (Let's just say a Spike is the answer to all those 'strong' beer cravings) 😉Strongly Delicious or Deliciously Strong - how do you like your Beer?@whiteowlbrewery\n",
      "-----------------------------------------------------------------------------------------------\n",
      "💖#pinksaree #saree #sareelove #sareelovers #sareefashion #sareeindia #sareecollection #sareeaddict #sareeblogger #sareeblogger #birminghamblogger #birminghamuk #birminghambloggers #birminghamlife #birminghamfashion #birminghamfashionblogger #birminghamfashionphotographer #birminghamfashionbloggers #birminghamfashionstylist #fashion #fashionstyle #fashionblogger #fashionista #fashionnova #londonfashion #londonfashionblogger #indiansinlondon #indiansinbirmingham #ukindians #ukindian #ukindians #indiansinmanchester\n",
      "-----------------------------------------------------------------------------------------------\n",
      "More Diwali photos 🪔 #diwali #diwaligifts #diwali2021 #diwalirangoli #diwalidecor #diwalihampers #festivities #festiveseason #festive #festivalfashion #festivités #fun #love #festivaloflights #diwalisweets #diyas #diyart #birminghamblogger #londonblogger #bloggerstyle #bloggerlifestyle #londonfoodieblogger #indianinuk #instagood #instareels #instagram #ukindians #indiansinbirmingham #indiansinlondon #indiansinmanchester\n",
      "-----------------------------------------------------------------------------------------------\n",
      "Happy Diwali 🪔 #diwali #diwaligifts #diwali2021 #diwalirangoli #diwalidecor #diwalihampers #festivities #festiveseason #festive #festivalfashion #festivités #fun #love #festivaloflights #diwalisweets #diyas #diyart #birminghamblogger #londonblogger #bloggerstyle #bloggerlifestyle #londonfoodieblogger #indianinuk #instagood #instareels #instagram #ukindians #indiansinbirmingham #indiansinlondon #indiansinmanchester\n",
      "-----------------------------------------------------------------------------------------------\n",
      "Isn’t saree the best attire 💖#birminghamfashionblogger #birminghamfashionphotographer #birminghamfashionbloggers #londonfashionblogger #londonindians #londonindianfashion #festivities #festiveseason #festive #festivalfashion #festivités #fun #love #festivaloflights #diwalisweets #diyas #diyart #indianfashion #pinksaree #bloggerstyle #bloggerlifestyle #londonfoodieblogger #indianinuk #instagood #instareels #instagram #ukindians #indiansinbirmingham #indiansinlondon #indiansinmanchester\n",
      "-----------------------------------------------------------------------------------------------\n",
      "Happy Diwali from us to you 🪔 I have no reason to hold his collar but its diwali so who cares 😝#diwali #diwaligifts #diwali2021 #diwalirangoli #diwalidecor #diwalihampers #festivities #festiveseason #festive #festivalfashion #festivités #fun #love #festivaloflights #diwalisweets #diyas #diyart #birminghamblogger #londonblogger #bloggerstyle #bloggerlifestyle #londonfoodieblogger #indianinuk #instagood #instareels #instagram #ukindians #indiansinbirmingham #indiansinlondon #indiansinmanchester\n",
      "-----------------------------------------------------------------------------------------------\n",
      "If you want to relish an amazing thanksgiving meal with family at Isaac restaurant, this New York-style brasserie on Barwick Street, will serve Thanksgiving dinner for one night only on Thursday 25th November.Book your meal now 💚#birmingham #birminghamuk #birminghamfood #birminghamchristmasmarket #birminghamthanksgiving #birminghamthanksgivingdinner #birminghamfood #birminghamphotographer #birminghamfoodie #birminghamfoodblogger #birminghamfoodscene #londonfoodie #londonfoodguide #londonfoodblogger #lovefood #lovefoodlovelife #lovefoodie #thanksgiving #thegrandhotel #resturants #resturant #foodbloggersofinstagram #birminghamfoodfanatics #birminghamartist #birminghaminfluencer #birminghaminfluencers #resturantsinlondon #resturantsinbirmingham #influencer #bloggerfashion @therelationship.co\n",
      "-----------------------------------------------------------------------------------------------\n",
      "Happy Diwali 🪔 #diwali #diwaligifts #diwali2021 #diwalirangoli #diwalidecor #diwalihampers #festivities #festiveseason #festive #festivalfashion #festivités #fun #love #festivaloflights #diwalisweets #diyas #diyart #birminghamblogger #londonblogger #bloggerstyle #bloggerlifestyle #londonfoodieblogger #indianinuk #instagood #instareels #instagram #ukindians #indiansinbirmingham #indiansinlondon #indiansinmanchester\n",
      "-----------------------------------------------------------------------------------------------\n",
      "Tandoori chai at @chaiiologyofficial ⭐️#chai #chaiwala #chailover #chailovers #birmingham #birminghamfood #birminghamfoodie #birminghamphotographer #birminghamfoodbloggers #birminghamuk #birminghamlife #birminghamcity #tea #tealovers #tealovers❤️ #tealoversofinstagram #teatime #tealover☕ #tandoorichai☕️ #tandoorichaivideo #tandoorichai☕♥️ #karakchai☕️ #karakchai #tealoversinbirmingham #birminghamtea #ladypoolroad #ladypool #indiansinuk\n",
      "-----------------------------------------------------------------------------------------------\n",
      "❤️#birmingham #birminghamuk #birminghamblogger #birminghambloggers #birminghamfashionblogger #birminghamfashionphotographer #birminghamfashionbloggers #birminghamfashionstylist #fashion #fashionstyle #fashionblogger #fashioninspo #fashionista #fashionnova #fashiondesigner #fashionlovers #reddress #redvelvet #fashiongoals #style #stylist #styleblogger #lovedressingup #dressup #dressupdaily #dressuptime #dressuptober #dressupdoll #longdresses #longdress\n",
      "-----------------------------------------------------------------------------------------------\n",
      "Thank you to @whitebeam.coffee for sending me some medium roast coffee to try 💕Can’t do without a cuppa ☕️ #coffee #coffeelover #coffeeshop #coffeetable #coffeeaddict #coffeeporn #coffeeholic #coffeeoftheday #coffeegram #birminghamuk #birminghamfood #birminghamfoodie #birminghamfoodbloggers #birminghamfoodblogger #birminghamfoodscene #birminghamfoodfanatics #birminghamcity #birminghamfoodphotographer #birminghamfashionblogger #birminghamcoffee #birminghamcoffeeshop #birminghamcoffeeroaster #birminghamcoffeeplaces #wakeupandsmile #wakeupandsmellthecoffee☕️ #wakeupnmakeup #lovecoffee #lovecoffee☕️ #lovecoffee❤️☕️\n",
      "-----------------------------------------------------------------------------------------------\n"
     ]
    }
   ],
   "source": [
    "for i in contents:\n",
    "    print(i)\n",
    "    print('-----------------------------------------------------------------------------------------------')"
   ]
  },
  {
   "cell_type": "markdown",
   "id": "92206ff5",
   "metadata": {},
   "source": [
    "## Q2.2. Preparing a list of all words used in all the scraped posts and calculating the frequency of each word.\n",
    "\n"
   ]
  },
  {
   "cell_type": "code",
   "execution_count": 150,
   "id": "433e9882",
   "metadata": {},
   "outputs": [],
   "source": [
    "#here in the question i am considering that \"words\" mean hashtags. because there will be no sense of getting the frequency of all the words in the content.\n",
    "#firstly i will convert the \"hashtags\" list to a numpy array\n",
    "hashtags=np.array(hashtags)\n",
    "hash_tags=[]#it will contain all the actual hashtags, where all the usernames are filtered from the hashtags array\n",
    "for i in hashtags:\n",
    "    if not i[0]=='@' and i!='':\n",
    "        hash_tags.append(i)\n",
    "#now \"hash_tags\" is the actual array which we actually require so we will keep it"
   ]
  },
  {
   "cell_type": "code",
   "execution_count": 152,
   "id": "e3e86e9e",
   "metadata": {},
   "outputs": [
    {
     "data": {
      "text/plain": [
       "{'#f52community': 8,\n",
       " '#f52grams': 3,\n",
       " '#valley': 3,\n",
       " '#trending': 1,\n",
       " '#travel': 1,\n",
       " '#home': 1,\n",
       " '#sardar': 4,\n",
       " '#brotherhood': 1,\n",
       " '#kashmir': 3,\n",
       " '#sikh': 3,\n",
       " '#turban': 5,\n",
       " '#wanderlust': 6,\n",
       " '#tourism': 1,\n",
       " '#love': 10,\n",
       " '#jk': 1,\n",
       " '#adventure': 1,\n",
       " '#valleyofflowers': 1,\n",
       " '#amazing': 1,\n",
       " '#mountains': 4,\n",
       " '#photography': 3,\n",
       " '#photos': 1,\n",
       " '#nature': 4,\n",
       " '#naturephotography': 4,\n",
       " '#hometown': 1,\n",
       " '#scenic': 1,\n",
       " '#waterfall': 1,\n",
       " '#shotoniphone': 2,\n",
       " '#sardari': 2,\n",
       " '#wanderer': 3,\n",
       " '#waters': 1,\n",
       " '#fun': 6,\n",
       " '#mountain': 1,\n",
       " '#vincetchase': 1,\n",
       " '#kashmirtourism': 1,\n",
       " '#reflections': 1,\n",
       " '#artistsoninstagram': 1,\n",
       " '#sketch': 1,\n",
       " '#handmade': 1,\n",
       " '#scribble': 1,\n",
       " '#kashmiri': 2,\n",
       " '#singh': 1,\n",
       " '#stayhome': 2,\n",
       " '#stayhomestaysafe': 1,\n",
       " '#art': 1,\n",
       " '#bossbaby': 1,\n",
       " '#photooftheday': 1,\n",
       " '#sundayfunday': 1,\n",
       " '#morning': 1,\n",
       " '#sunlight': 1,\n",
       " '#sunlightphotography': 1,\n",
       " '#lawn': 1,\n",
       " '#baby': 1,\n",
       " '#cutebabies': 1,\n",
       " '#selfie': 1,\n",
       " '#turbanator': 1,\n",
       " '#beard': 1,\n",
       " '#india': 1,\n",
       " '#jammu': 1,\n",
       " '#quarantineandchill': 1,\n",
       " '#shotonsony': 1,\n",
       " '#life': 1,\n",
       " '#mountainlife': 2,\n",
       " '#oldmemories': 2,\n",
       " '#placestovisit': 1,\n",
       " '#travelphotography': 1,\n",
       " '#sonyalpha': 1,\n",
       " '#shots': 1,\n",
       " '#silence': 1,\n",
       " '#warmth': 1,\n",
       " '#paradise': 1,\n",
       " '#hangout': 1,\n",
       " '#throwback': 1,\n",
       " '#throwbackthursday': 1,\n",
       " '#instagood': 6,\n",
       " '#instagram': 6,\n",
       " '#dilsefoodie': 11,\n",
       " '#dilsecouple': 9,\n",
       " '#diwalidecorations': 1,\n",
       " '#diwalicelebration': 1,\n",
       " '#aarti': 1,\n",
       " '#diwali2021': 5,\n",
       " '#Ad': 1,\n",
       " '#kwalitywalls': 1,\n",
       " '#tareekanaya': 1,\n",
       " '#diwali': 7,\n",
       " '#diwaligifts': 5,\n",
       " '#diwalisweets': 6,\n",
       " '#giftingidea': 1,\n",
       " '#Diwalicelebration': 1,\n",
       " '#tareekanayawithkwalitywalls': 1,\n",
       " '#Desikulfi': 1,\n",
       " '#kulfi': 1,\n",
       " '#khushiyonkaflavour': 1,\n",
       " '#HotFind': 3,\n",
       " '#ChickenWings': 1,\n",
       " '#foodtalkindia': 4,\n",
       " '#foodtalk': 4,\n",
       " '#food': 3,\n",
       " '#chickenwings': 1,\n",
       " '#hotwings': 1,\n",
       " '#foodie': 1,\n",
       " '#foodporn': 3,\n",
       " '#foodiesofdelhi': 1,\n",
       " '#foodgasm': 1,\n",
       " '#chicken': 1,\n",
       " '#wings': 1,\n",
       " '#delicious': 2,\n",
       " '#LetsTalk': 2,\n",
       " '#SouthIndianCuisine': 1,\n",
       " '#southindianfood': 1,\n",
       " '#foodies': 1,\n",
       " '#delhifoodie': 1,\n",
       " '#idli': 1,\n",
       " '#dosa': 1,\n",
       " '#indianfood': 1,\n",
       " '#indiancuisine': 1,\n",
       " '#foodlover': 1,\n",
       " '#foodgram': 2,\n",
       " '#HangoverCures': 1,\n",
       " '#fti': 2,\n",
       " '#party': 2,\n",
       " '#festivevibes': 1,\n",
       " '#drinks': 1,\n",
       " '#hangover': 1,\n",
       " '#cure': 1,\n",
       " '#letstalk': 1,\n",
       " '#PartySnacks': 1,\n",
       " '#hamper': 1,\n",
       " '#diwaliparty': 1,\n",
       " '#snacks': 1,\n",
       " '#readytocook': 1,\n",
       " '#festive': 6,\n",
       " '#partyideas': 1,\n",
       " '#hosting': 1,\n",
       " '#goodfood': 1,\n",
       " '#pinksaree': 2,\n",
       " '#saree': 1,\n",
       " '#sareelove': 1,\n",
       " '#sareelovers': 1,\n",
       " '#sareefashion': 1,\n",
       " '#sareeindia': 1,\n",
       " '#sareecollection': 1,\n",
       " '#sareeaddict': 1,\n",
       " '#sareeblogger': 2,\n",
       " '#birminghamblogger': 6,\n",
       " '#birminghamuk': 5,\n",
       " '#birminghambloggers': 2,\n",
       " '#birminghamlife': 2,\n",
       " '#birminghamfashion': 1,\n",
       " '#birminghamfashionblogger': 4,\n",
       " '#birminghamfashionphotographer': 3,\n",
       " '#birminghamfashionbloggers': 3,\n",
       " '#birminghamfashionstylist': 2,\n",
       " '#fashion': 2,\n",
       " '#fashionstyle': 2,\n",
       " '#fashionblogger': 2,\n",
       " '#fashionista': 2,\n",
       " '#fashionnova': 2,\n",
       " '#londonfashion': 1,\n",
       " '#londonfashionblogger': 2,\n",
       " '#indiansinlondon': 6,\n",
       " '#indiansinbirmingham': 6,\n",
       " '#ukindians': 7,\n",
       " '#ukindian': 1,\n",
       " '#indiansinmanchester': 6,\n",
       " '#diwalirangoli': 4,\n",
       " '#diwalidecor': 4,\n",
       " '#diwalihampers': 4,\n",
       " '#festivities': 5,\n",
       " '#festiveseason': 5,\n",
       " '#festivalfashion': 5,\n",
       " '#festivités': 5,\n",
       " '#festivaloflights': 5,\n",
       " '#diyas': 5,\n",
       " '#diyart': 5,\n",
       " '#londonblogger': 4,\n",
       " '#bloggerstyle': 5,\n",
       " '#bloggerlifestyle': 5,\n",
       " '#londonfoodieblogger': 5,\n",
       " '#indianinuk': 5,\n",
       " '#instareels': 5,\n",
       " '#londonindians': 1,\n",
       " '#londonindianfashion': 1,\n",
       " '#indianfashion': 1,\n",
       " '#birmingham': 3,\n",
       " '#birminghamfood': 4,\n",
       " '#birminghamchristmasmarket': 1,\n",
       " '#birminghamthanksgiving': 1,\n",
       " '#birminghamthanksgivingdinner': 1,\n",
       " '#birminghamphotographer': 2,\n",
       " '#birminghamfoodie': 3,\n",
       " '#birminghamfoodblogger': 2,\n",
       " '#birminghamfoodscene': 2,\n",
       " '#londonfoodie': 1,\n",
       " '#londonfoodguide': 1,\n",
       " '#londonfoodblogger': 1,\n",
       " '#lovefood': 1,\n",
       " '#lovefoodlovelife': 1,\n",
       " '#lovefoodie': 1,\n",
       " '#thanksgiving': 1,\n",
       " '#thegrandhotel': 1,\n",
       " '#resturants': 1,\n",
       " '#resturant': 1,\n",
       " '#foodbloggersofinstagram': 1,\n",
       " '#birminghamfoodfanatics': 2,\n",
       " '#birminghamartist': 1,\n",
       " '#birminghaminfluencer': 1,\n",
       " '#birminghaminfluencers': 1,\n",
       " '#resturantsinlondon': 1,\n",
       " '#resturantsinbirmingham': 1,\n",
       " '#influencer': 1,\n",
       " '#bloggerfashion': 1,\n",
       " '#chai': 1,\n",
       " '#chaiwala': 1,\n",
       " '#chailover': 1,\n",
       " '#chailovers': 1,\n",
       " '#birminghamfoodbloggers': 2,\n",
       " '#birminghamcity': 2,\n",
       " '#tea': 1,\n",
       " '#tealovers': 1,\n",
       " '#tealovers❤️': 1,\n",
       " '#tealoversofinstagram': 1,\n",
       " '#teatime': 1,\n",
       " '#tealover☕': 1,\n",
       " '#tandoorichai☕️': 1,\n",
       " '#tandoorichaivideo': 1,\n",
       " '#tandoorichai☕♥️': 1,\n",
       " '#karakchai☕️': 1,\n",
       " '#karakchai': 1,\n",
       " '#tealoversinbirmingham': 1,\n",
       " '#birminghamtea': 1,\n",
       " '#ladypoolroad': 1,\n",
       " '#ladypool': 1,\n",
       " '#indiansinuk': 1,\n",
       " '#fashioninspo': 1,\n",
       " '#fashiondesigner': 1,\n",
       " '#fashionlovers': 1,\n",
       " '#reddress': 1,\n",
       " '#redvelvet': 1,\n",
       " '#fashiongoals': 1,\n",
       " '#style': 1,\n",
       " '#stylist': 1,\n",
       " '#styleblogger': 1,\n",
       " '#lovedressingup': 1,\n",
       " '#dressup': 1,\n",
       " '#dressupdaily': 1,\n",
       " '#dressuptime': 1,\n",
       " '#dressuptober': 1,\n",
       " '#dressupdoll': 1,\n",
       " '#longdresses': 1,\n",
       " '#longdress': 1,\n",
       " '#coffee': 1,\n",
       " '#coffeelover': 1,\n",
       " '#coffeeshop': 1,\n",
       " '#coffeetable': 1,\n",
       " '#coffeeaddict': 1,\n",
       " '#coffeeporn': 1,\n",
       " '#coffeeholic': 1,\n",
       " '#coffeeoftheday': 1,\n",
       " '#coffeegram': 1,\n",
       " '#birminghamfoodphotographer': 1,\n",
       " '#birminghamcoffee': 1,\n",
       " '#birminghamcoffeeshop': 1,\n",
       " '#birminghamcoffeeroaster': 1,\n",
       " '#birminghamcoffeeplaces': 1,\n",
       " '#wakeupandsmile': 1,\n",
       " '#wakeupandsmellthecoffee☕️': 1,\n",
       " '#wakeupnmakeup': 1,\n",
       " '#lovecoffee': 1,\n",
       " '#lovecoffee☕️': 1,\n",
       " '#lovecoffee❤️☕️': 1}"
      ]
     },
     "execution_count": 152,
     "metadata": {},
     "output_type": "execute_result"
    }
   ],
   "source": [
    "hash_dict={}\n",
    "for i in hash_tags:\n",
    "    hash_dict[i]=hash_dict.get(i,0)+1\n",
    "hash_dict"
   ]
  },
  {
   "cell_type": "markdown",
   "id": "7db06f48",
   "metadata": {},
   "source": [
    "## Q2.3. Creating a csv file with two columns : the word and its frequency\n",
    "\n"
   ]
  },
  {
   "cell_type": "code",
   "execution_count": 155,
   "id": "2caa2b1d",
   "metadata": {},
   "outputs": [],
   "source": [
    "hash_word= np.array([i[1:] for i in hash_dict.keys()])\n",
    "hash_freq= np.array([i for i in hash_dict.values()])\n",
    "df=pd.DataFrame()\n",
    "df['Words']=hash_word\n",
    "df['Frequency']=hash_freq\n",
    "df.to_csv('Hashtag_Frequencies.csv')"
   ]
  },
  {
   "cell_type": "markdown",
   "id": "5fa846be",
   "metadata": {},
   "source": [
    "## Q2.4. Finding the hashtags that were most popular among these bloggers\n"
   ]
  },
  {
   "cell_type": "code",
   "execution_count": 158,
   "id": "7f1a266f",
   "metadata": {},
   "outputs": [
    {
     "name": "stdout",
     "output_type": "stream",
     "text": [
      "dilsefoodie -----> 11 times\n",
      "love -----> 10 times\n",
      "dilsecouple -----> 9 times\n",
      "f52community -----> 8 times\n",
      "ukindians -----> 7 times\n",
      "diwali -----> 7 times\n",
      "fun -----> 6 times\n",
      "indiansinmanchester -----> 6 times\n",
      "birminghamblogger -----> 6 times\n",
      "festive -----> 6 times\n",
      "diwalisweets -----> 6 times\n",
      "indiansinbirmingham -----> 6 times\n",
      "instagram -----> 6 times\n",
      "instagood -----> 6 times\n",
      "indiansinlondon -----> 6 times\n",
      "wanderlust -----> 6 times\n",
      "diwaligifts -----> 5 times\n",
      "festiveseason -----> 5 times\n",
      "bloggerstyle -----> 5 times\n",
      "festivaloflights -----> 5 times\n",
      "birminghamuk -----> 5 times\n",
      "festivités -----> 5 times\n",
      "festivalfashion -----> 5 times\n",
      "turban -----> 5 times\n",
      "diyart -----> 5 times\n",
      "diwali2021 -----> 5 times\n",
      "festivities -----> 5 times\n",
      "bloggerlifestyle -----> 5 times\n",
      "londonfoodieblogger -----> 5 times\n",
      "indianinuk -----> 5 times\n",
      "instareels -----> 5 times\n",
      "diyas -----> 5 times\n",
      "diwalihampers -----> 4 times\n",
      "diwalidecor -----> 4 times\n",
      "birminghamfashionblogger -----> 4 times\n",
      "sardar -----> 4 times\n",
      "diwalirangoli -----> 4 times\n",
      "londonblogger -----> 4 times\n",
      "mountains -----> 4 times\n",
      "birminghamfood -----> 4 times\n",
      "foodtalk -----> 4 times\n",
      "foodtalkindia -----> 4 times\n",
      "naturephotography -----> 4 times\n",
      "nature -----> 4 times\n",
      "wanderer -----> 3 times\n",
      "f52grams -----> 3 times\n",
      "valley -----> 3 times\n",
      "photography -----> 3 times\n",
      "birminghamfashionphotographer -----> 3 times\n",
      "birminghamfashionbloggers -----> 3 times\n",
      "birminghamfoodie -----> 3 times\n",
      "sikh -----> 3 times\n",
      "HotFind -----> 3 times\n",
      "food -----> 3 times\n",
      "foodporn -----> 3 times\n",
      "kashmir -----> 3 times\n",
      "birmingham -----> 3 times\n",
      "party -----> 2 times\n",
      "londonfashionblogger -----> 2 times\n",
      "foodgram -----> 2 times\n",
      "shotoniphone -----> 2 times\n",
      "sardari -----> 2 times\n",
      "kashmiri -----> 2 times\n",
      "stayhome -----> 2 times\n",
      "mountainlife -----> 2 times\n",
      "oldmemories -----> 2 times\n",
      "delicious -----> 2 times\n",
      "LetsTalk -----> 2 times\n",
      "fti -----> 2 times\n",
      "fashionnova -----> 2 times\n",
      "sareeblogger -----> 2 times\n",
      "birminghambloggers -----> 2 times\n",
      "birminghamlife -----> 2 times\n",
      "birminghamfashionstylist -----> 2 times\n",
      "fashion -----> 2 times\n",
      "fashionstyle -----> 2 times\n",
      "fashionblogger -----> 2 times\n",
      "fashionista -----> 2 times\n",
      "birminghamphotographer -----> 2 times\n",
      "pinksaree -----> 2 times\n",
      "birminghamfoodblogger -----> 2 times\n",
      "birminghamfoodscene -----> 2 times\n",
      "birminghamfoodfanatics -----> 2 times\n",
      "birminghamfoodbloggers -----> 2 times\n",
      "birminghamcity -----> 2 times\n",
      "shotonsony -----> 1 times\n",
      "shots -----> 1 times\n",
      "sonyalpha -----> 1 times\n",
      "travelphotography -----> 1 times\n",
      "placestovisit -----> 1 times\n",
      "longdresses -----> 1 times\n",
      "longdress -----> 1 times\n",
      "life -----> 1 times\n",
      "quarantineandchill -----> 1 times\n",
      "warmth -----> 1 times\n",
      "jammu -----> 1 times\n",
      "india -----> 1 times\n",
      "beard -----> 1 times\n",
      "turbanator -----> 1 times\n",
      "selfie -----> 1 times\n",
      "cutebabies -----> 1 times\n",
      "baby -----> 1 times\n",
      "lawn -----> 1 times\n",
      "sunlightphotography -----> 1 times\n",
      "sunlight -----> 1 times\n",
      "silence -----> 1 times\n",
      "paradise -----> 1 times\n",
      "sundayfunday -----> 1 times\n",
      "Ad -----> 1 times\n",
      "Desikulfi -----> 1 times\n",
      "tareekanayawithkwalitywalls -----> 1 times\n",
      "Diwalicelebration -----> 1 times\n",
      "giftingidea -----> 1 times\n",
      "stylist -----> 1 times\n",
      "styleblogger -----> 1 times\n",
      "lovedressingup -----> 1 times\n",
      "tareekanaya -----> 1 times\n",
      "kwalitywalls -----> 1 times\n",
      "dressup -----> 1 times\n",
      "hangout -----> 1 times\n",
      "aarti -----> 1 times\n",
      "diwalicelebration -----> 1 times\n",
      "diwalidecorations -----> 1 times\n",
      "dressupdaily -----> 1 times\n",
      "dressuptime -----> 1 times\n",
      "dressuptober -----> 1 times\n",
      "dressupdoll -----> 1 times\n",
      "throwbackthursday -----> 1 times\n",
      "throwback -----> 1 times\n",
      "morning -----> 1 times\n",
      "bossbaby -----> 1 times\n",
      "photooftheday -----> 1 times\n",
      "birminghamcoffeeshop -----> 1 times\n",
      "photos -----> 1 times\n",
      "coffeegram -----> 1 times\n",
      "birminghamfoodphotographer -----> 1 times\n",
      "amazing -----> 1 times\n",
      "valleyofflowers -----> 1 times\n",
      "adventure -----> 1 times\n",
      "jk -----> 1 times\n",
      "birminghamcoffee -----> 1 times\n",
      "tourism -----> 1 times\n",
      "birminghamcoffeeroaster -----> 1 times\n",
      "khushiyonkaflavour -----> 1 times\n",
      "birminghamcoffeeplaces -----> 1 times\n",
      "wakeupandsmile -----> 1 times\n",
      "brotherhood -----> 1 times\n",
      "wakeupandsmellthecoffee☕️ -----> 1 times\n",
      "home -----> 1 times\n",
      "travel -----> 1 times\n",
      "trending -----> 1 times\n",
      "wakeupnmakeup -----> 1 times\n",
      "lovecoffee -----> 1 times\n",
      "coffeeoftheday -----> 1 times\n",
      "coffeeholic -----> 1 times\n",
      "hometown -----> 1 times\n",
      "scenic -----> 1 times\n",
      "art -----> 1 times\n",
      "stayhomestaysafe -----> 1 times\n",
      "coffee -----> 1 times\n",
      "singh -----> 1 times\n",
      "coffeelover -----> 1 times\n",
      "scribble -----> 1 times\n",
      "handmade -----> 1 times\n",
      "sketch -----> 1 times\n",
      "artistsoninstagram -----> 1 times\n",
      "reflections -----> 1 times\n",
      "kashmirtourism -----> 1 times\n",
      "vincetchase -----> 1 times\n",
      "mountain -----> 1 times\n",
      "coffeeshop -----> 1 times\n",
      "waters -----> 1 times\n",
      "coffeetable -----> 1 times\n",
      "coffeeaddict -----> 1 times\n",
      "coffeeporn -----> 1 times\n",
      "waterfall -----> 1 times\n",
      "kulfi -----> 1 times\n",
      "fashiongoals -----> 1 times\n",
      "style -----> 1 times\n",
      "tealovers❤️ -----> 1 times\n",
      "bloggerfashion -----> 1 times\n",
      "ukindian -----> 1 times\n",
      "chai -----> 1 times\n",
      "chaiwala -----> 1 times\n",
      "chailover -----> 1 times\n",
      "chailovers -----> 1 times\n",
      "londonfashion -----> 1 times\n",
      "tea -----> 1 times\n",
      "tealovers -----> 1 times\n",
      "tealoversofinstagram -----> 1 times\n",
      "sareecollection -----> 1 times\n",
      "teatime -----> 1 times\n",
      "tealover☕ -----> 1 times\n",
      "tandoorichai☕️ -----> 1 times\n",
      "birminghamfashion -----> 1 times\n",
      "tandoorichaivideo -----> 1 times\n",
      "tandoorichai☕♥️ -----> 1 times\n",
      "karakchai☕️ -----> 1 times\n",
      "karakchai -----> 1 times\n",
      "tealoversinbirmingham -----> 1 times\n",
      "influencer -----> 1 times\n",
      "resturantsinbirmingham -----> 1 times\n",
      "resturantsinlondon -----> 1 times\n",
      "birminghaminfluencers -----> 1 times\n",
      "birminghamthanksgivingdinner -----> 1 times\n",
      "birminghamthanksgiving -----> 1 times\n",
      "birminghamchristmasmarket -----> 1 times\n",
      "londonfoodie -----> 1 times\n",
      "londonfoodguide -----> 1 times\n",
      "indianfashion -----> 1 times\n",
      "londonindianfashion -----> 1 times\n",
      "londonindians -----> 1 times\n",
      "londonfoodblogger -----> 1 times\n",
      "lovefood -----> 1 times\n",
      "lovefoodlovelife -----> 1 times\n",
      "lovefoodie -----> 1 times\n",
      "thanksgiving -----> 1 times\n",
      "thegrandhotel -----> 1 times\n",
      "resturants -----> 1 times\n",
      "resturant -----> 1 times\n",
      "foodbloggersofinstagram -----> 1 times\n",
      "birminghamartist -----> 1 times\n",
      "birminghaminfluencer -----> 1 times\n",
      "sareeaddict -----> 1 times\n",
      "sareeindia -----> 1 times\n",
      "ChickenWings -----> 1 times\n",
      "fashiondesigner -----> 1 times\n",
      "indiancuisine -----> 1 times\n",
      "indianfood -----> 1 times\n",
      "dosa -----> 1 times\n",
      "idli -----> 1 times\n",
      "delhifoodie -----> 1 times\n",
      "foodies -----> 1 times\n",
      "southindianfood -----> 1 times\n",
      "SouthIndianCuisine -----> 1 times\n",
      "fashioninspo -----> 1 times\n",
      "wings -----> 1 times\n",
      "sareefashion -----> 1 times\n",
      "chicken -----> 1 times\n",
      "foodgasm -----> 1 times\n",
      "foodiesofdelhi -----> 1 times\n",
      "fashionlovers -----> 1 times\n",
      "foodie -----> 1 times\n",
      "hotwings -----> 1 times\n",
      "chickenwings -----> 1 times\n",
      "reddress -----> 1 times\n",
      "redvelvet -----> 1 times\n",
      "foodlover -----> 1 times\n",
      "indiansinuk -----> 1 times\n",
      "HangoverCures -----> 1 times\n",
      "ladypool -----> 1 times\n",
      "sareelovers -----> 1 times\n",
      "sareelove -----> 1 times\n",
      "saree -----> 1 times\n",
      "lovecoffee☕️ -----> 1 times\n",
      "goodfood -----> 1 times\n",
      "hosting -----> 1 times\n",
      "partyideas -----> 1 times\n",
      "birminghamtea -----> 1 times\n",
      "readytocook -----> 1 times\n",
      "snacks -----> 1 times\n",
      "diwaliparty -----> 1 times\n",
      "hamper -----> 1 times\n",
      "PartySnacks -----> 1 times\n",
      "letstalk -----> 1 times\n",
      "cure -----> 1 times\n",
      "hangover -----> 1 times\n",
      "drinks -----> 1 times\n",
      "festivevibes -----> 1 times\n",
      "ladypoolroad -----> 1 times\n",
      "lovecoffee❤️☕️ -----> 1 times\n"
     ]
    }
   ],
   "source": [
    "hash_word=hash_word[np.argsort(hash_freq)][::-1]\n",
    "hash_freq=hash_freq[np.argsort(hash_freq)][::-1]\n",
    "for i in range(len(hash_word)):\n",
    "    print(hash_word[i], \"----->\", hash_freq[i], \"times\")"
   ]
  },
  {
   "cell_type": "markdown",
   "id": "d7f1070c",
   "metadata": {},
   "source": [
    "## Q2.5. Plotting a Pie Chart of the top 5 hashtags obtained and the number of times they were used by these bloggers in the scraped posts.\n"
   ]
  },
  {
   "cell_type": "code",
   "execution_count": 160,
   "id": "09a0fbeb",
   "metadata": {},
   "outputs": [
    {
     "data": {
      "image/png": "[encoded data removed]",
      "text/plain": [
       "<Figure size 720x720 with 1 Axes>"
      ]
     },
     "metadata": {},
     "output_type": "display_data"
    }
   ],
   "source": [
    "x=hash_word[:5]\n",
    "y=hash_freq[:5]\n",
    "plt.figure(figsize=(10, 10))\n",
    "plt.pie(y, labels=x, autopct='%.2f%%', shadow=True, labeldistance=1.2)\n",
    "plt.title('Pie Chart of the top 5 hashtags ')\n",
    "plt.show()"
   ]
  },
  {
   "cell_type": "markdown",
   "id": "5845a213",
   "metadata": {},
   "source": [
    "## Q3.1. Finding out the likes of the top 10 posts of the 5 handles obtained earlier.\n"
   ]
  },
  {
   "cell_type": "code",
   "execution_count": 174,
   "id": "92121bac",
   "metadata": {},
   "outputs": [
    {
     "name": "stdout",
     "output_type": "stream",
     "text": [
      "food52----> "
     ]
    },
    {
     "name": "stderr",
     "output_type": "stream",
     "text": [
      "<ipython-input-174-9e56284501dd>:5: DeprecationWarning: find_element_by_* commands are deprecated. Please use find_element() instead\n",
      "  search_box=driver.find_element_by_class_name('XTCLo')\n",
      "<ipython-input-174-9e56284501dd>:8: DeprecationWarning: find_element_by_* commands are deprecated. Please use find_element() instead\n",
      "  driver.find_element_by_class_name('uL8Hv').click()\n",
      "<ipython-input-174-9e56284501dd>:12: DeprecationWarning: find_elements_by_* commands are deprecated. Please use find_elements() instead\n",
      "  for i in driver.find_elements_by_xpath('//div[@class=\"_9AhH0\"]'):\n",
      "<ipython-input-174-9e56284501dd>:19: DeprecationWarning: find_element_by_* commands are deprecated. Please use find_element() instead\n",
      "  driver.find_element_by_class_name('vcOH2').click()\n",
      "<ipython-input-174-9e56284501dd>:20: DeprecationWarning: find_element_by_* commands are deprecated. Please use find_element() instead\n",
      "  l=driver.find_element_by_xpath('//div[contains(@class, \"vJRqr\")]/span').get_attribute('innerHTML').split(',')\n",
      "<ipython-input-174-9e56284501dd>:16: DeprecationWarning: find_element_by_* commands are deprecated. Please use find_element() instead\n",
      "  l=driver.find_element_by_xpath('//div[@class=\"Nm9Fw\"]/a/span').get_attribute('innerHTML').split(',')\n"
     ]
    },
    {
     "name": "stdout",
     "output_type": "stream",
     "text": [
      "total 689 likes on 10 latest posts\n"
     ]
    },
    {
     "name": "stderr",
     "output_type": "stream",
     "text": [
      "<ipython-input-174-9e56284501dd>:30: DeprecationWarning: find_element_by_* commands are deprecated. Please use find_element() instead\n",
      "  driver.find_element_by_class_name('cq2ai').click()\n"
     ]
    },
    {
     "name": "stdout",
     "output_type": "stream",
     "text": [
      "food----> total 1600 likes on 10 latest posts\n",
      "dilsefoodie----> total 107 likes on 10 latest posts\n",
      "foodtalkindia----> total 2195 likes on 10 latest posts\n",
      "food_fashion_theatre----> total 1807 likes on 10 latest posts\n"
     ]
    }
   ],
   "source": [
    "like=[]\n",
    "for user in top5:\n",
    "    print(user, end=\"----> \")\n",
    "    time.sleep(3)\n",
    "    search_box=driver.find_element_by_class_name('XTCLo')\n",
    "    search_box.send_keys(user)\n",
    "    time.sleep(5)\n",
    "    driver.find_element_by_class_name('uL8Hv').click()\n",
    "    time.sleep(1)\n",
    "    count=0\n",
    "    likes=0\n",
    "    for i in driver.find_elements_by_xpath('//div[@class=\"_9AhH0\"]'):\n",
    "        i.click()\n",
    "        try:\n",
    "            WebDriverWait(driver, 5).until(EC.presence_of_element_located((By.XPATH, '//div[@class=\"Nm9Fw\"]/a/span')))\n",
    "            l=driver.find_element_by_xpath('//div[@class=\"Nm9Fw\"]/a/span').get_attribute('innerHTML').split(',')\n",
    "            likes+=int(l[0])\n",
    "        except TimeoutException:\n",
    "            driver.find_element_by_class_name('vcOH2').click()\n",
    "            l=driver.find_element_by_xpath('//div[contains(@class, \"vJRqr\")]/span').get_attribute('innerHTML').split(',')\n",
    "            likes+=int(l[0])\n",
    "        count+=1        \n",
    "        if count>=10:\n",
    "            driver.back()\n",
    "            break\n",
    "        driver.back()\n",
    "        time.sleep(1)\n",
    "    print(\"total\", likes, \"likes on 10 latest posts\")\n",
    "    like.append(likes)\n",
    "    driver.find_element_by_class_name('cq2ai').click()"
   ]
  },
  {
   "cell_type": "code",
   "execution_count": 175,
   "id": "47286ab7",
   "metadata": {},
   "outputs": [
    {
     "data": {
      "text/plain": [
       "array(['food52', 'food', 'dilsefoodie', 'foodtalkindia',\n",
       "       'food_fashion_theatre'], dtype='<U20')"
      ]
     },
     "execution_count": 175,
     "metadata": {},
     "output_type": "execute_result"
    }
   ],
   "source": [
    "top5 = np.array(top5)\n",
    "top5"
   ]
  },
  {
   "cell_type": "code",
   "execution_count": 176,
   "id": "b86a9237",
   "metadata": {},
   "outputs": [
    {
     "data": {
      "text/plain": [
       "array([ 689, 1600,  107, 2195, 1807])"
      ]
     },
     "execution_count": 176,
     "metadata": {},
     "output_type": "execute_result"
    }
   ],
   "source": [
    "like= np.array(like)\n",
    "like"
   ]
  },
  {
   "cell_type": "code",
   "execution_count": 177,
   "id": "14ded8ac",
   "metadata": {},
   "outputs": [
    {
     "data": {
      "text/plain": [
       "array([3300000,  925000,  925000,  307000,   10000])"
      ]
     },
     "execution_count": 177,
     "metadata": {},
     "output_type": "execute_result"
    }
   ],
   "source": [
    "followers[0:5]"
   ]
  },
  {
   "cell_type": "markdown",
   "id": "eddfd8c0",
   "metadata": {},
   "source": [
    "## Q3.2. Calculating the average likes for a handle."
   ]
  },
  {
   "cell_type": "code",
   "execution_count": 178,
   "id": "9828d04f",
   "metadata": {},
   "outputs": [
    {
     "data": {
      "text/plain": [
       "array([ 68.9, 160. ,  10.7, 219.5, 180.7])"
      ]
     },
     "execution_count": 178,
     "metadata": {},
     "output_type": "execute_result"
    }
   ],
   "source": [
    "average_likes=like/10\n",
    "average_likes\n",
    "#these are the average likes of the respective 5 users."
   ]
  },
  {
   "cell_type": "markdown",
   "id": "d67f4c15",
   "metadata": {},
   "source": [
    "## Q3.3. Dividing the average likes obtained from the number of followers of the handle to get the average followers:like ratio of each handle"
   ]
  },
  {
   "cell_type": "code",
   "execution_count": 191,
   "id": "6045d48c",
   "metadata": {},
   "outputs": [
    {
     "name": "stdout",
     "output_type": "stream",
     "text": [
      "47895.50\n",
      "5781.25\n",
      "86448.60\n",
      "1398.63\n",
      "55.34\n"
     ]
    }
   ],
   "source": [
    "#for getting average followers to likes ratio\n",
    "ratio=followers[0:5]/average_likes\n",
    "for i in ratio:\n",
    "    print(format(i, \".2f\"))"
   ]
  },
  {
   "cell_type": "markdown",
   "id": "7e914592",
   "metadata": {},
   "source": [
    "## Q3.4. Creating a bar graph to depict the above obtained information."
   ]
  },
  {
   "cell_type": "code",
   "execution_count": 192,
   "id": "0837215d",
   "metadata": {},
   "outputs": [
    {
     "data": {
      "image/png": "[encoded data removed]",
      "text/plain": [
       "<Figure size 720x504 with 1 Axes>"
      ]
     },
     "metadata": {
      "needs_background": "light"
     },
     "output_type": "display_data"
    }
   ],
   "source": [
    "#plotting the graph between average followers to the likes ratio and users.\n",
    "plt.figure(figsize=(10,7))\n",
    "plt.bar(top5, ratio, color='orange')\n",
    "plt.xticks(rotation=45, size=12)\n",
    "plt.xlabel('Users---->', size=12)\n",
    "plt.ylabel('Average followers to likes ratio---->', size=12)\n",
    "plt.yticks(size=12)\n",
    "plt.grid()\n",
    "plt.show()"
   ]
  },
  {
   "cell_type": "code",
   "execution_count": null,
   "id": "a7e88062",
   "metadata": {},
   "outputs": [],
   "source": []
  }
 ],
 "metadata": {
  "kernelspec": {
   "display_name": "Python 3",
   "language": "python",
   "name": "python3"
  },
  "language_info": {
   "codemirror_mode": {
    "name": "ipython",
    "version": 3
   },
   "file_extension": ".py",
   "mimetype": "text/x-python",
   "name": "python",
   "nbconvert_exporter": "python",
   "pygments_lexer": "ipython3",
   "version": "3.8.8"
  }
 },
 "nbformat": 4,
 "nbformat_minor": 5
}
